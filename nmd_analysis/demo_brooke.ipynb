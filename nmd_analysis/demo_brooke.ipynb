{
 "cells": [
  {
   "cell_type": "code",
   "execution_count": 68,
   "id": "a5a233bb-4dc4-458a-a053-d66b9f9a95aa",
   "metadata": {},
   "outputs": [],
   "source": [
    "%load_ext autoreload\n",
    "%autoreload 1\n",
    "# %aimport utilsLoaders\n",
    "# %aimport ocfeats\n",
    "%aimport utilsShoulder\n"
   ]
  },
  {
   "cell_type": "code",
   "execution_count": 69,
   "id": "9c23e9a1-908f-4a39-bf56-3e55a4c63ba8",
   "metadata": {},
   "outputs": [],
   "source": [
    "from pathlib import Path\n",
    "\n",
    "import pandas as pd # also openpyxl for xlsx files\n",
    "import numpy as np\n",
    "import scipy.signal as ss\n",
    "import matplotlib.pyplot as plt\n",
    "import seaborn as sns\n",
    "\n",
    "from scipy.spatial import ConvexHull\n",
    "\n",
    "from tqdm import tqdm, trange\n",
    "\n",
    "from utilsLoaders import read_trc, read_mot\n",
    "from utilsShoulder import fancy_shoulder\n",
    "import ocfeats\n",
    "\n",
    "# gdrive = Path('/Volumes/GoogleDrive-112026393729621442608')\n",
    "gdrive = Path('/Users/psr/Library/CloudStorage/GoogleDrive-paru@stanford.edu')\n",
    "# datadir = gdrive / 'My Drive/NMBL Lab/OpenCap for NMD biomarkers/data'\n",
    "# dataset = '2023-05_dhd'\n",
    "\n",
    "datadir = gdrive / 'Shared drives/OpenCapNMD/Data/'\n",
    "\n",
    "\n",
    "def get_trc_fpath(sid, trial):\n",
    "    # return datadir / dataset / f'opencap_data/{sid}/' \\\n",
    "    return datadir / f'opencap_data/{sid}/' \\\n",
    "        f'MarkerData/PostAugmentation/{trial}/{trial}.trc'\n",
    "\n",
    "def get_mot_fpath(sid, trial):\n",
    "    # return datadir / dataset / f'opencap_data/{sid}/' \\\n",
    "    return datadir / f'opencap_data/{sid}/' \\\n",
    "        f'OpenSimData/Kinematics/{trial}.mot'\n",
    "    "
   ]
  },
  {
   "cell_type": "code",
   "execution_count": 25,
   "id": "7cd22b5f-3b78-4fad-995e-45e0e1fafbc7",
   "metadata": {},
   "outputs": [],
   "source": [
    "# colorblind friendly palette\n",
    "from cycler import cycler\n",
    "cp = [\"#172A5A\", \"#FF7171\", \"#227567\", \"#34BAEA\", \"#F9D466\", ]\n",
    "plt.rcParams['axes.prop_cycle'] = cycler(color=cp)\n",
    "\n",
    "# set default font\n",
    "plt.rcParams['font.family'] = 'sans-serif'\n",
    "plt.rcParams['font.sans-serif'] = ['Open Sans', 'Arial']\n",
    "\n",
    "# automatically despine\n",
    "plt.rcParams['axes.spines.top'] = False\n",
    "plt.rcParams['axes.spines.right'] = False\n",
    "\n",
    "# set defualt DPI\n",
    "plt.rcParams['figure.dpi'] = 72\n",
    "\n"
   ]
  },
  {
   "cell_type": "code",
   "execution_count": 27,
   "id": "5ce3e26a-9704-4e4b-b977-e010f787d648",
   "metadata": {},
   "outputs": [],
   "source": [
    "# df_session = pd.read_excel(datadir / dataset / 'session_info.xlsx', engine='openpyxl')\n",
    "# df_trial = pd.read_excel(datadir / dataset / 'trial_info.xlsx', engine='openpyxl')\n",
    "# df_part = pd.read_excel(datadir / dataset / 'participant_info.xlsx', engine='openpyxl')\n",
    "\n",
    "df_session = pd.read_excel(datadir / 'session_info.xlsx', engine='openpyxl')\n",
    "df_trial = pd.read_excel(datadir / 'trial_info.xlsx', engine='openpyxl')\n",
    "df_part = pd.read_excel(datadir / 'participant_info.xlsx', engine='openpyxl')\n"
   ]
  },
  {
   "cell_type": "code",
   "execution_count": 58,
   "id": "6ad1d126-e31e-4122-a1b0-9db59d020fc7",
   "metadata": {},
   "outputs": [
    {
     "name": "stdout",
     "output_type": "stream",
     "text": [
      "p104\n"
     ]
    },
    {
     "data": {
      "image/png": "[encoded data removed]",
      "text/plain": [
       "<Figure size 720x144 with 1 Axes>"
      ]
     },
     "metadata": {},
     "output_type": "display_data"
    }
   ],
   "source": [
    "pid = 'p014'\n",
    "# pid = 'p060'\n",
    "# pid = 'p093'\n",
    "\n",
    "df_temp = df_trial[df_trial.trial_clean == 'brooke']\n",
    "um = df_temp.sample(1).iloc[0]\n",
    "pid, sid, trial = um[['pid', 'sid', 'trial']]\n",
    "print(pid)\n",
    "\n",
    "fps, markers, xyz = read_trc(get_trc_fpath(sid, trial))\n",
    "\n",
    "rw = xyz[:,np.argmax(markers=='RWrist'),1]\n",
    "lw = xyz[:,np.argmax(markers=='LWrist'),1]\n",
    "mean_w = (rw + lw) / 2\n",
    "\n",
    "rsa, rea, lsa, lea = ocfeats.trc_arm_angles(xyz, markers)\n",
    "\n",
    "mean_sa = (rsa + lsa) / 2\n",
    "mean_ea = (rea + lea) / 2\n",
    "\n",
    "max_rsa = np.max(rsa)\n",
    "max_lsa = np.max(lsa)\n",
    "\n",
    "max_mean_sa = np.max(mean_sa)\n",
    "\n",
    "rea_at_max_rsa = rea[np.argmax(rsa)]\n",
    "lea_at_max_lsa = lea[np.argmax(lsa)]\n",
    "mean_ea_at_max_mean_sa = mean_ea[np.argmax(mean_sa)]\n",
    "\n",
    "rea_at_max_rw = rea[np.argmax(rw)]\n",
    "lea_at_max_lw = lea[np.argmax(lw)]\n",
    "mean_ea_at_max_mean_w = mean_ea[np.argmax(mean_w)]\n",
    "\n",
    "t = np.arange(xyz.shape[0]) / fps\n",
    "plt.figure(figsize=(10,2))\n",
    "plt.plot(t, rsa, lw=1)\n",
    "plt.plot(t, rea)\n",
    "plt.plot(t, lsa)\n",
    "plt.plot(t, lea)\n",
    "plt.axhline(mean_ea_at_max_mean_sa)\n",
    "plt.axhline(mean_ea_at_max_mean_w)\n",
    "plt.axvline(t[np.argmax(mean_sa)])\n",
    "plt.axvline(t[np.argmax(mean_w)])\n",
    "plt.xlim(t[0], t[-1])\n",
    "plt.ylim(0, 180)\n",
    "plt.yticks([0, 45, 90, 135, 180])\n",
    "plt.tight_layout()\n",
    "plt.show()\n"
   ]
  },
  {
   "cell_type": "code",
   "execution_count": 70,
   "id": "af4043e9-9a44-44ec-b2b4-74711c1e685e",
   "metadata": {},
   "outputs": [
    {
     "name": "stderr",
     "output_type": "stream",
     "text": [
      "100%|█████████████████████████████████████████████████████████████████████████████████| 100/100 [00:12<00:00,  8.09it/s]\n"
     ]
    }
   ],
   "source": [
    "df_temp = df_trial[df_trial.trial_clean == 'brooke']\n",
    "data = []\n",
    "for i, row in tqdm(df_temp.iterrows(), total=df_temp.shape[0]):\n",
    "    pid, sid, trial = row[['pid', 'sid', 'trial']]\n",
    "    # print(pid)\n",
    "\n",
    "    fps, markers, xyz = read_trc(get_trc_fpath(sid, trial))\n",
    "\n",
    "    rsa, rea, lsa, lea = ocfeats.trc_arm_angles(xyz, markers)\n",
    "    \n",
    "    max_rsa = np.max(rsa)\n",
    "    max_lsa = np.max(lsa)\n",
    "    max_rea = np.max(rea)\n",
    "    max_lea = np.max(lea)\n",
    "\n",
    "    mean_sa = (rsa + lsa) / 2\n",
    "    mean_ea = (rea + lea) / 2\n",
    "    \n",
    "    max_mean_sa = np.max(mean_sa)\n",
    "    max_mean_ea = np.max(mean_ea)\n",
    "    \n",
    "    max_min_sa = np.vstack([rsa, lsa]).min(0).max()\n",
    "\n",
    "    data.append({'pid': pid,\n",
    "                 # 'max_rsa': max_rsa,\n",
    "                 # 'max_lsa': max_lsa,\n",
    "                 'max_rsa': max_rsa,\n",
    "                 'max_lsa': max_lsa,\n",
    "                 'max_rea': max_rea,\n",
    "                 'max_lea': max_lea,\n",
    "                 'max_mean_sa': max_mean_sa,\n",
    "                 'max_mean_ea': max_mean_ea,\n",
    "                 'max_min_sa': max_min_sa,\n",
    "                })\n"
   ]
  },
  {
   "cell_type": "code",
   "execution_count": 74,
   "id": "63de203a-f9db-4c0b-9033-669e2094add8",
   "metadata": {},
   "outputs": [
    {
     "name": "stdout",
     "output_type": "stream",
     "text": [
      "Processing session 6a0fbe94-23aa-4302-89bb-d878517f1cc8.\n",
      "Re-scaling model.\n"
     ]
    },
    {
     "ename": "FileNotFoundError",
     "evalue": "[Errno 2] No such file or directory: '/Users/psr/Library/CloudStorage/GoogleDrive-paru@stanford.edu/Shared drives/OpenCapNMD/Data/opencap_data/6a0fbe94-23aa-4302-89bb-d878517f1cc8/MarkerData/PostAugmentation/neutral/neutral.trc'",
     "output_type": "error",
     "traceback": [
      "\u001b[0;31m---------------------------------------------------------------------------\u001b[0m",
      "\u001b[0;31mFileNotFoundError\u001b[0m                         Traceback (most recent call last)",
      "Cell \u001b[0;32mIn[74], line 3\u001b[0m\n\u001b[1;32m      1\u001b[0m sid, trial, datadir, \n\u001b[1;32m      2\u001b[0m tempDir \u001b[38;5;241m=\u001b[39m Path(\u001b[38;5;124m'\u001b[39m\u001b[38;5;124m/Users/psr/Desktop/temp\u001b[39m\u001b[38;5;124m'\u001b[39m)\n\u001b[0;32m----> 3\u001b[0m \u001b[43mfancy_shoulder\u001b[49m\u001b[43m(\u001b[49m\u001b[43msid\u001b[49m\u001b[43m,\u001b[49m\u001b[43m \u001b[49m\u001b[43mtrial\u001b[49m\u001b[43m,\u001b[49m\u001b[43m \u001b[49m\u001b[43mdatadir\u001b[49m\u001b[43m,\u001b[49m\u001b[43m \u001b[49m\u001b[43mtempDir\u001b[49m\u001b[43m)\u001b[49m\n",
      "File \u001b[0;32m~/Documents/Stanford/Research/Delp/OpenCap/opencap-core/nmd_analysis/utilsShoulder.py:88\u001b[0m, in \u001b[0;36mfancy_shoulder\u001b[0;34m(session, trial, dataDir, tempDataDir)\u001b[0m\n\u001b[1;32m     84\u001b[0m pathTRCFile4Scaling \u001b[38;5;241m=\u001b[39m os\u001b[38;5;241m.\u001b[39mpath\u001b[38;5;241m.\u001b[39mjoin(sessionDir,\u001b[38;5;124m'\u001b[39m\u001b[38;5;124mMarkerData\u001b[39m\u001b[38;5;124m'\u001b[39m,\u001b[38;5;124m'\u001b[39m\u001b[38;5;124mPostAugmentation\u001b[39m\u001b[38;5;124m'\u001b[39m,\n\u001b[1;32m     85\u001b[0m                                    \u001b[38;5;124m'\u001b[39m\u001b[38;5;124mneutral\u001b[39m\u001b[38;5;124m'\u001b[39m,\u001b[38;5;124m'\u001b[39m\u001b[38;5;124mneutral.trc\u001b[39m\u001b[38;5;124m'\u001b[39m)\n\u001b[1;32m     87\u001b[0m \u001b[38;5;28mprint\u001b[39m(\u001b[38;5;124m'\u001b[39m\u001b[38;5;124mRe-scaling model.\u001b[39m\u001b[38;5;124m'\u001b[39m)\n\u001b[0;32m---> 88\u001b[0m timeRange4Scaling \u001b[38;5;241m=\u001b[39m \u001b[43mgetScaleTimeRange\u001b[49m\u001b[43m(\u001b[49m\u001b[43mpathTRCFile4Scaling\u001b[49m\u001b[43m,\u001b[49m\n\u001b[1;32m     89\u001b[0m \u001b[43m                                      \u001b[49m\u001b[43mthresholdPosition\u001b[49m\u001b[38;5;241;43m=\u001b[39;49m\u001b[38;5;241;43m0.007\u001b[39;49m\u001b[43m,\u001b[49m\n\u001b[1;32m     90\u001b[0m \u001b[43m                                      \u001b[49m\u001b[43mthresholdTime\u001b[49m\u001b[38;5;241;43m=\u001b[39;49m\u001b[38;5;241;43m0.1\u001b[39;49m\u001b[43m,\u001b[49m\n\u001b[1;32m     91\u001b[0m \u001b[43m                                      \u001b[49m\u001b[43mremoveRoot\u001b[49m\u001b[38;5;241;43m=\u001b[39;49m\u001b[38;5;28;43;01mTrue\u001b[39;49;00m\u001b[43m)\u001b[49m     \n\u001b[1;32m     93\u001b[0m \u001b[38;5;66;03m# Paths to generic files\u001b[39;00m\n\u001b[1;32m     94\u001b[0m genericSetupFile4ScalingName \u001b[38;5;241m=\u001b[39m (\n\u001b[1;32m     95\u001b[0m     \u001b[38;5;124m'\u001b[39m\u001b[38;5;124mSetup_scaling_RajagopalModified2016_withArms_KA.xml\u001b[39m\u001b[38;5;124m'\u001b[39m)\n",
      "File \u001b[0;32m~/Documents/Stanford/Research/Delp/OpenCap/opencap-core/utilsOpenSim.py:199\u001b[0m, in \u001b[0;36mgetScaleTimeRange\u001b[0;34m(pathTRCFile, thresholdPosition, thresholdTime, withArms, withOpenPoseMarkers, isMocap, removeRoot)\u001b[0m\n\u001b[1;32m    195\u001b[0m \u001b[38;5;28;01mdef\u001b[39;00m \u001b[38;5;21mgetScaleTimeRange\u001b[39m(pathTRCFile, thresholdPosition\u001b[38;5;241m=\u001b[39m\u001b[38;5;241m0.005\u001b[39m, thresholdTime\u001b[38;5;241m=\u001b[39m\u001b[38;5;241m0.3\u001b[39m,\n\u001b[1;32m    196\u001b[0m                       withArms\u001b[38;5;241m=\u001b[39m\u001b[38;5;28;01mTrue\u001b[39;00m, withOpenPoseMarkers\u001b[38;5;241m=\u001b[39m\u001b[38;5;28;01mFalse\u001b[39;00m, isMocap\u001b[38;5;241m=\u001b[39m\u001b[38;5;28;01mFalse\u001b[39;00m,\n\u001b[1;32m    197\u001b[0m                       removeRoot\u001b[38;5;241m=\u001b[39m\u001b[38;5;28;01mFalse\u001b[39;00m):\n\u001b[0;32m--> 199\u001b[0m     c_trc_file \u001b[38;5;241m=\u001b[39m \u001b[43mutilsDataman\u001b[49m\u001b[38;5;241;43m.\u001b[39;49m\u001b[43mTRCFile\u001b[49m\u001b[43m(\u001b[49m\u001b[43mpathTRCFile\u001b[49m\u001b[43m)\u001b[49m\n\u001b[1;32m    200\u001b[0m     c_trc_time \u001b[38;5;241m=\u001b[39m c_trc_file\u001b[38;5;241m.\u001b[39mtime    \n\u001b[1;32m    201\u001b[0m     \u001b[38;5;28;01mif\u001b[39;00m withOpenPoseMarkers:\n\u001b[1;32m    202\u001b[0m         \u001b[38;5;66;03m# No big toe markers, such as to include both OpenPose and mmpose.\u001b[39;00m\n",
      "File \u001b[0;32m~/Documents/Stanford/Research/Delp/OpenCap/opencap-core/utilsDataman.py:43\u001b[0m, in \u001b[0;36mTRCFile.__init__\u001b[0;34m(self, fpath, **kwargs)\u001b[0m\n\u001b[1;32m     41\u001b[0m \u001b[38;5;28mself\u001b[39m\u001b[38;5;241m.\u001b[39mmarker_names \u001b[38;5;241m=\u001b[39m []\n\u001b[1;32m     42\u001b[0m \u001b[38;5;28;01mif\u001b[39;00m fpath \u001b[38;5;241m!=\u001b[39m \u001b[38;5;28;01mNone\u001b[39;00m:\n\u001b[0;32m---> 43\u001b[0m     \u001b[38;5;28;43mself\u001b[39;49m\u001b[38;5;241;43m.\u001b[39;49m\u001b[43mread_from_file\u001b[49m\u001b[43m(\u001b[49m\u001b[43mfpath\u001b[49m\u001b[43m)\u001b[49m\n\u001b[1;32m     44\u001b[0m \u001b[38;5;28;01melse\u001b[39;00m:\n\u001b[1;32m     45\u001b[0m     \u001b[38;5;28;01mfor\u001b[39;00m k, v \u001b[38;5;129;01min\u001b[39;00m kwargs\u001b[38;5;241m.\u001b[39mitems():\n",
      "File \u001b[0;32m~/Documents/Stanford/Research/Delp/OpenCap/opencap-core/utilsDataman.py:53\u001b[0m, in \u001b[0;36mTRCFile.read_from_file\u001b[0;34m(self, fpath)\u001b[0m\n\u001b[1;32m     48\u001b[0m \u001b[38;5;28;01mdef\u001b[39;00m \u001b[38;5;21mread_from_file\u001b[39m(\u001b[38;5;28mself\u001b[39m, fpath):\n\u001b[1;32m     49\u001b[0m     \u001b[38;5;66;03m# Read the header lines / metadata.\u001b[39;00m\n\u001b[1;32m     50\u001b[0m     \u001b[38;5;66;03m# ---------------------------------\u001b[39;00m\n\u001b[1;32m     51\u001b[0m     \u001b[38;5;66;03m# Split by any whitespace.\u001b[39;00m\n\u001b[1;32m     52\u001b[0m     \u001b[38;5;66;03m# TODO may cause issues with paths that have spaces in them.\u001b[39;00m\n\u001b[0;32m---> 53\u001b[0m     f \u001b[38;5;241m=\u001b[39m \u001b[38;5;28;43mopen\u001b[39;49m\u001b[43m(\u001b[49m\u001b[43mfpath\u001b[49m\u001b[43m)\u001b[49m\n\u001b[1;32m     54\u001b[0m     \u001b[38;5;66;03m# These are lists of each entry on the first few lines.\u001b[39;00m\n\u001b[1;32m     55\u001b[0m     first_line \u001b[38;5;241m=\u001b[39m f\u001b[38;5;241m.\u001b[39mreadline()\u001b[38;5;241m.\u001b[39msplit()\n",
      "\u001b[0;31mFileNotFoundError\u001b[0m: [Errno 2] No such file or directory: '/Users/psr/Library/CloudStorage/GoogleDrive-paru@stanford.edu/Shared drives/OpenCapNMD/Data/opencap_data/6a0fbe94-23aa-4302-89bb-d878517f1cc8/MarkerData/PostAugmentation/neutral/neutral.trc'"
     ]
    }
   ],
   "source": [
    "sid, trial, datadir, \n",
    "tempDir = Path('/Users/psr/Desktop/temp')\n",
    "fancy_shoulder(sid, trial, datadir, tempDir)"
   ]
  },
  {
   "cell_type": "code",
   "execution_count": 22,
   "id": "97ae810c-b00e-496c-97f5-975ff924c75d",
   "metadata": {},
   "outputs": [
    {
     "data": {
      "text/plain": [
       "False"
      ]
     },
     "execution_count": 22,
     "metadata": {},
     "output_type": "execute_result"
    }
   ],
   "source": [
    "fpath = Path('/Users/psr/Library/CloudStorage/GoogleDrive-paru@stanford.edu')\n",
    "fpath /= 'My Drive/NMBL Lab/OpenCap for NMD biomarkers/data/2023-05_dhd'\n",
    "fpath /= 'opencap_data/9ce91ceb-2bf8-4544-ae22-3da5ad3cb9a1'\n",
    "# fpath /= 'MarkerData'\n",
    "fpath.exists()"
   ]
  },
  {
   "cell_type": "code",
   "execution_count": null,
   "id": "dbfba80e-480f-4edc-8678-80fdf98e056a",
   "metadata": {},
   "outputs": [],
   "source": [
    "df_brooke = pd.DataFrame(data)\n",
    "df_temp = df_brooke.merge(df_part[['pid', 'brooke', 'type']],\n",
    "                          on='pid', how='left')\n",
    "\n",
    "plt.figure(figsize=(7,3))\n",
    "sns.swarmplot(df_temp, x='type', y='max_mean_sa')\n",
    "plt.xlabel('')\n",
    "sns.despine()\n",
    "plt.tight_layout()\n",
    "plt.show()\n",
    "\n",
    "plt.figure(figsize=(7,3))\n",
    "sns.swarmplot(df_temp, x='type', y='max_mean_ea')\n",
    "plt.xlabel('')\n",
    "sns.despine()\n",
    "plt.tight_layout()\n",
    "plt.show()\n",
    "\n",
    "sns.pairplot(df_temp, hue='type')\n",
    "plt.show()\n"
   ]
  }
 ],
 "metadata": {
  "kernelspec": {
   "display_name": "Python 3 (ipykernel)",
   "language": "python",
   "name": "python3"
  },
  "language_info": {
   "codemirror_mode": {
    "name": "ipython",
    "version": 3
   },
   "file_extension": ".py",
   "mimetype": "text/x-python",
   "name": "python",
   "nbconvert_exporter": "python",
   "pygments_lexer": "ipython3",
   "version": "3.10.8"
  }
 },
 "nbformat": 4,
 "nbformat_minor": 5
}
