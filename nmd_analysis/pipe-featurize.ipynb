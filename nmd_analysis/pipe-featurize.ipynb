{
 "cells": [
  {
   "cell_type": "code",
   "execution_count": 1,
   "id": "a5a233bb-4dc4-458a-a053-d66b9f9a95aa",
   "metadata": {},
   "outputs": [],
   "source": [
    "%load_ext autoreload\n",
    "%autoreload 1\n",
    "%aimport utilsLoaders\n",
    "%aimport ocfeats\n"
   ]
  },
  {
   "cell_type": "code",
   "execution_count": 2,
   "id": "9c23e9a1-908f-4a39-bf56-3e55a4c63ba8",
   "metadata": {},
   "outputs": [],
   "source": [
    "from pathlib import Path\n",
    "\n",
    "import pandas as pd # also openpyxl for xlsx files\n",
    "import numpy as np\n",
    "import scipy.signal as ss\n",
    "import matplotlib.pyplot as plt\n",
    "import seaborn as sns\n",
    "\n",
    "from tqdm.auto import tqdm, trange\n",
    "\n",
    "from utilsLoaders import read_trc, read_mot\n",
    "import ocfeats\n",
    "\n",
    "gdrive = Path('/Users/psr/Library/CloudStorage/GoogleDrive-paru@stanford.edu')\n",
    "datadir = gdrive / 'Shared drives/OpencapNMD/Data'\n",
    "\n",
    "def get_trc_fpath(sid, trial):\n",
    "    return datadir / f'opencap_data/{sid}/' \\\n",
    "        f'MarkerData/PostAugmentation/{trial}/{trial}.trc'\n",
    "\n",
    "def get_mot_fpath(sid, trial):\n",
    "    return datadir / f'opencap_data/{sid}/' \\\n",
    "        f'OpenSimData/Kinematics/{trial}.mot'\n",
    "    \n",
    "def get_model_fpath(sid):\n",
    "    sdir = datadir / f'opencap_data/{sid}'\n",
    "    return list((sdir/'OpenSimData/Model').glob('*.osim'))[0]\n"
   ]
  },
  {
   "cell_type": "code",
   "execution_count": 3,
   "id": "7cd22b5f-3b78-4fad-995e-45e0e1fafbc7",
   "metadata": {},
   "outputs": [],
   "source": [
    "# colorblind friendly palette\n",
    "from cycler import cycler\n",
    "cp = [\"#172A5A\", \"#FF7171\", \"#227567\", \"#34BAEA\", \"#F9D466\", ]\n",
    "plt.rcParams['axes.prop_cycle'] = cycler(color=cp)\n",
    "\n",
    "# set default font\n",
    "plt.rcParams['font.family'] = 'sans-serif'\n",
    "plt.rcParams['font.sans-serif'] = ['Open Sans', 'Arial']\n",
    "\n",
    "# automatically despine\n",
    "plt.rcParams['axes.spines.top'] = False\n",
    "plt.rcParams['axes.spines.right'] = False\n",
    "\n",
    "# set defualt DPI\n",
    "plt.rcParams['figure.dpi'] = 72\n"
   ]
  },
  {
   "cell_type": "code",
   "execution_count": 4,
   "id": "5ce3e26a-9704-4e4b-b977-e010f787d648",
   "metadata": {},
   "outputs": [],
   "source": [
    "df_session = pd.read_excel(datadir / 'session_info.xlsx', )\n",
    "df_trial = pd.read_excel(datadir / 'trial_info.xlsx')\n",
    "df_part = pd.read_excel(datadir / 'participant_info.xlsx')\n",
    "\n",
    "df_feat = df_part[['pid']].copy()\n"
   ]
  },
  {
   "cell_type": "markdown",
   "id": "4e3bbaf9-cf69-459a-b0a5-8a5c7f8ef150",
   "metadata": {},
   "source": [
    "### Arm ROM"
   ]
  },
  {
   "cell_type": "code",
   "execution_count": 5,
   "id": "af4043e9-9a44-44ec-b2b4-74711c1e685e",
   "metadata": {},
   "outputs": [
    {
     "data": {
      "application/vnd.jupyter.widget-view+json": {
       "model_id": "ddb065547ca54c458dfc6adea1841227",
       "version_major": 2,
       "version_minor": 0
      },
      "text/plain": [
       "  0%|          | 0/99 [00:00<?, ?it/s]"
      ]
     },
     "metadata": {},
     "output_type": "display_data"
    },
    {
     "ename": "FileNotFoundError",
     "evalue": "[Errno 2] No such file or directory: '/Users/psr/Library/CloudStorage/GoogleDrive-paru@stanford.edu/Shared drives/OpencapNMD/Data/opencap_data/f86f706a-d80a-487d-9473-4374268bf79c/MarkerData/PostAugmentation/arm_rom/arm_rom.trc'",
     "output_type": "error",
     "traceback": [
      "\u001b[0;31m---------------------------------------------------------------------------\u001b[0m",
      "\u001b[0;31mFileNotFoundError\u001b[0m                         Traceback (most recent call last)",
      "Cell \u001b[0;32mIn [5], line 5\u001b[0m\n\u001b[1;32m      3\u001b[0m \u001b[38;5;28;01mfor\u001b[39;00m i, row \u001b[38;5;129;01min\u001b[39;00m tqdm(df_temp\u001b[38;5;241m.\u001b[39miterrows(), total\u001b[38;5;241m=\u001b[39mdf_temp\u001b[38;5;241m.\u001b[39mshape[\u001b[38;5;241m0\u001b[39m]):\n\u001b[1;32m      4\u001b[0m     pid, sid, trial \u001b[38;5;241m=\u001b[39m row[[\u001b[38;5;124m'\u001b[39m\u001b[38;5;124mpid\u001b[39m\u001b[38;5;124m'\u001b[39m, \u001b[38;5;124m'\u001b[39m\u001b[38;5;124msid\u001b[39m\u001b[38;5;124m'\u001b[39m, \u001b[38;5;124m'\u001b[39m\u001b[38;5;124mtrial\u001b[39m\u001b[38;5;124m'\u001b[39m]]\n\u001b[0;32m----> 5\u001b[0m     fps, markers, xyz \u001b[38;5;241m=\u001b[39m \u001b[43mread_trc\u001b[49m\u001b[43m(\u001b[49m\u001b[43mget_trc_fpath\u001b[49m\u001b[43m(\u001b[49m\u001b[43msid\u001b[49m\u001b[43m,\u001b[49m\u001b[43m \u001b[49m\u001b[43mtrial\u001b[49m\u001b[43m)\u001b[49m\u001b[43m)\u001b[49m        \n\u001b[1;32m      6\u001b[0m     feats \u001b[38;5;241m=\u001b[39m ocfeats\u001b[38;5;241m.\u001b[39marm_rom_trc_feats(xyz, markers)\n\u001b[1;32m      7\u001b[0m     max_mean_sa, mean_ea_at_max_mean_sa, max_min_sa, max_ea_at_max_min_sa, rw \u001b[38;5;241m=\u001b[39m feats\n",
      "File \u001b[0;32m~/Documents/Stanford/Research/Delp/OpenCap/opencap-core/nmd_analysis/utilsLoaders.py:10\u001b[0m, in \u001b[0;36mread_trc\u001b[0;34m(fpath)\u001b[0m\n\u001b[1;32m      8\u001b[0m \u001b[38;5;28;01mdef\u001b[39;00m \u001b[38;5;21mread_trc\u001b[39m(fpath):\n\u001b[1;32m      9\u001b[0m     \u001b[38;5;66;03m# read metadata in file header\u001b[39;00m\n\u001b[0;32m---> 10\u001b[0m     df_meta \u001b[38;5;241m=\u001b[39m \u001b[43mpd\u001b[49m\u001b[38;5;241;43m.\u001b[39;49m\u001b[43mread_csv\u001b[49m\u001b[43m(\u001b[49m\u001b[43mfpath\u001b[49m\u001b[43m,\u001b[49m\u001b[43m \u001b[49m\u001b[43mdelimiter\u001b[49m\u001b[38;5;241;43m=\u001b[39;49m\u001b[38;5;124;43m'\u001b[39;49m\u001b[38;5;130;43;01m\\t\u001b[39;49;00m\u001b[38;5;124;43m'\u001b[39;49m\u001b[43m,\u001b[49m\u001b[43m \u001b[49m\u001b[43mheader\u001b[49m\u001b[38;5;241;43m=\u001b[39;49m\u001b[38;5;241;43m0\u001b[39;49m\u001b[43m,\u001b[49m\u001b[43m \u001b[49m\u001b[43mskiprows\u001b[49m\u001b[38;5;241;43m=\u001b[39;49m\u001b[38;5;241;43m1\u001b[39;49m\u001b[43m,\u001b[49m\u001b[43m \u001b[49m\u001b[43mnrows\u001b[49m\u001b[38;5;241;43m=\u001b[39;49m\u001b[38;5;241;43m1\u001b[39;49m\u001b[43m)\u001b[49m\n\u001b[1;32m     11\u001b[0m     meta \u001b[38;5;241m=\u001b[39m df_meta\u001b[38;5;241m.\u001b[39miloc[\u001b[38;5;241m0\u001b[39m]\u001b[38;5;241m.\u001b[39mto_dict()\n\u001b[1;32m     12\u001b[0m     fps \u001b[38;5;241m=\u001b[39m meta[\u001b[38;5;124m'\u001b[39m\u001b[38;5;124mDataRate\u001b[39m\u001b[38;5;124m'\u001b[39m]\n",
      "File \u001b[0;32m~/opt/anaconda3/envs/opensim/lib/python3.9/site-packages/pandas/util/_decorators.py:211\u001b[0m, in \u001b[0;36mdeprecate_kwarg.<locals>._deprecate_kwarg.<locals>.wrapper\u001b[0;34m(*args, **kwargs)\u001b[0m\n\u001b[1;32m    209\u001b[0m     \u001b[38;5;28;01melse\u001b[39;00m:\n\u001b[1;32m    210\u001b[0m         kwargs[new_arg_name] \u001b[38;5;241m=\u001b[39m new_arg_value\n\u001b[0;32m--> 211\u001b[0m \u001b[38;5;28;01mreturn\u001b[39;00m \u001b[43mfunc\u001b[49m\u001b[43m(\u001b[49m\u001b[38;5;241;43m*\u001b[39;49m\u001b[43margs\u001b[49m\u001b[43m,\u001b[49m\u001b[43m \u001b[49m\u001b[38;5;241;43m*\u001b[39;49m\u001b[38;5;241;43m*\u001b[39;49m\u001b[43mkwargs\u001b[49m\u001b[43m)\u001b[49m\n",
      "File \u001b[0;32m~/opt/anaconda3/envs/opensim/lib/python3.9/site-packages/pandas/util/_decorators.py:317\u001b[0m, in \u001b[0;36mdeprecate_nonkeyword_arguments.<locals>.decorate.<locals>.wrapper\u001b[0;34m(*args, **kwargs)\u001b[0m\n\u001b[1;32m    311\u001b[0m \u001b[38;5;28;01mif\u001b[39;00m \u001b[38;5;28mlen\u001b[39m(args) \u001b[38;5;241m>\u001b[39m num_allow_args:\n\u001b[1;32m    312\u001b[0m     warnings\u001b[38;5;241m.\u001b[39mwarn(\n\u001b[1;32m    313\u001b[0m         msg\u001b[38;5;241m.\u001b[39mformat(arguments\u001b[38;5;241m=\u001b[39marguments),\n\u001b[1;32m    314\u001b[0m         \u001b[38;5;167;01mFutureWarning\u001b[39;00m,\n\u001b[1;32m    315\u001b[0m         stacklevel\u001b[38;5;241m=\u001b[39mfind_stack_level(inspect\u001b[38;5;241m.\u001b[39mcurrentframe()),\n\u001b[1;32m    316\u001b[0m     )\n\u001b[0;32m--> 317\u001b[0m \u001b[38;5;28;01mreturn\u001b[39;00m \u001b[43mfunc\u001b[49m\u001b[43m(\u001b[49m\u001b[38;5;241;43m*\u001b[39;49m\u001b[43margs\u001b[49m\u001b[43m,\u001b[49m\u001b[43m \u001b[49m\u001b[38;5;241;43m*\u001b[39;49m\u001b[38;5;241;43m*\u001b[39;49m\u001b[43mkwargs\u001b[49m\u001b[43m)\u001b[49m\n",
      "File \u001b[0;32m~/opt/anaconda3/envs/opensim/lib/python3.9/site-packages/pandas/io/parsers/readers.py:950\u001b[0m, in \u001b[0;36mread_csv\u001b[0;34m(filepath_or_buffer, sep, delimiter, header, names, index_col, usecols, squeeze, prefix, mangle_dupe_cols, dtype, engine, converters, true_values, false_values, skipinitialspace, skiprows, skipfooter, nrows, na_values, keep_default_na, na_filter, verbose, skip_blank_lines, parse_dates, infer_datetime_format, keep_date_col, date_parser, dayfirst, cache_dates, iterator, chunksize, compression, thousands, decimal, lineterminator, quotechar, quoting, doublequote, escapechar, comment, encoding, encoding_errors, dialect, error_bad_lines, warn_bad_lines, on_bad_lines, delim_whitespace, low_memory, memory_map, float_precision, storage_options)\u001b[0m\n\u001b[1;32m    935\u001b[0m kwds_defaults \u001b[38;5;241m=\u001b[39m _refine_defaults_read(\n\u001b[1;32m    936\u001b[0m     dialect,\n\u001b[1;32m    937\u001b[0m     delimiter,\n\u001b[0;32m   (...)\u001b[0m\n\u001b[1;32m    946\u001b[0m     defaults\u001b[38;5;241m=\u001b[39m{\u001b[38;5;124m\"\u001b[39m\u001b[38;5;124mdelimiter\u001b[39m\u001b[38;5;124m\"\u001b[39m: \u001b[38;5;124m\"\u001b[39m\u001b[38;5;124m,\u001b[39m\u001b[38;5;124m\"\u001b[39m},\n\u001b[1;32m    947\u001b[0m )\n\u001b[1;32m    948\u001b[0m kwds\u001b[38;5;241m.\u001b[39mupdate(kwds_defaults)\n\u001b[0;32m--> 950\u001b[0m \u001b[38;5;28;01mreturn\u001b[39;00m \u001b[43m_read\u001b[49m\u001b[43m(\u001b[49m\u001b[43mfilepath_or_buffer\u001b[49m\u001b[43m,\u001b[49m\u001b[43m \u001b[49m\u001b[43mkwds\u001b[49m\u001b[43m)\u001b[49m\n",
      "File \u001b[0;32m~/opt/anaconda3/envs/opensim/lib/python3.9/site-packages/pandas/io/parsers/readers.py:605\u001b[0m, in \u001b[0;36m_read\u001b[0;34m(filepath_or_buffer, kwds)\u001b[0m\n\u001b[1;32m    602\u001b[0m _validate_names(kwds\u001b[38;5;241m.\u001b[39mget(\u001b[38;5;124m\"\u001b[39m\u001b[38;5;124mnames\u001b[39m\u001b[38;5;124m\"\u001b[39m, \u001b[38;5;28;01mNone\u001b[39;00m))\n\u001b[1;32m    604\u001b[0m \u001b[38;5;66;03m# Create the parser.\u001b[39;00m\n\u001b[0;32m--> 605\u001b[0m parser \u001b[38;5;241m=\u001b[39m \u001b[43mTextFileReader\u001b[49m\u001b[43m(\u001b[49m\u001b[43mfilepath_or_buffer\u001b[49m\u001b[43m,\u001b[49m\u001b[43m \u001b[49m\u001b[38;5;241;43m*\u001b[39;49m\u001b[38;5;241;43m*\u001b[39;49m\u001b[43mkwds\u001b[49m\u001b[43m)\u001b[49m\n\u001b[1;32m    607\u001b[0m \u001b[38;5;28;01mif\u001b[39;00m chunksize \u001b[38;5;129;01mor\u001b[39;00m iterator:\n\u001b[1;32m    608\u001b[0m     \u001b[38;5;28;01mreturn\u001b[39;00m parser\n",
      "File \u001b[0;32m~/opt/anaconda3/envs/opensim/lib/python3.9/site-packages/pandas/io/parsers/readers.py:1442\u001b[0m, in \u001b[0;36mTextFileReader.__init__\u001b[0;34m(self, f, engine, **kwds)\u001b[0m\n\u001b[1;32m   1439\u001b[0m     \u001b[38;5;28mself\u001b[39m\u001b[38;5;241m.\u001b[39moptions[\u001b[38;5;124m\"\u001b[39m\u001b[38;5;124mhas_index_names\u001b[39m\u001b[38;5;124m\"\u001b[39m] \u001b[38;5;241m=\u001b[39m kwds[\u001b[38;5;124m\"\u001b[39m\u001b[38;5;124mhas_index_names\u001b[39m\u001b[38;5;124m\"\u001b[39m]\n\u001b[1;32m   1441\u001b[0m \u001b[38;5;28mself\u001b[39m\u001b[38;5;241m.\u001b[39mhandles: IOHandles \u001b[38;5;241m|\u001b[39m \u001b[38;5;28;01mNone\u001b[39;00m \u001b[38;5;241m=\u001b[39m \u001b[38;5;28;01mNone\u001b[39;00m\n\u001b[0;32m-> 1442\u001b[0m \u001b[38;5;28mself\u001b[39m\u001b[38;5;241m.\u001b[39m_engine \u001b[38;5;241m=\u001b[39m \u001b[38;5;28;43mself\u001b[39;49m\u001b[38;5;241;43m.\u001b[39;49m\u001b[43m_make_engine\u001b[49m\u001b[43m(\u001b[49m\u001b[43mf\u001b[49m\u001b[43m,\u001b[49m\u001b[43m \u001b[49m\u001b[38;5;28;43mself\u001b[39;49m\u001b[38;5;241;43m.\u001b[39;49m\u001b[43mengine\u001b[49m\u001b[43m)\u001b[49m\n",
      "File \u001b[0;32m~/opt/anaconda3/envs/opensim/lib/python3.9/site-packages/pandas/io/parsers/readers.py:1729\u001b[0m, in \u001b[0;36mTextFileReader._make_engine\u001b[0;34m(self, f, engine)\u001b[0m\n\u001b[1;32m   1727\u001b[0m     is_text \u001b[38;5;241m=\u001b[39m \u001b[38;5;28;01mFalse\u001b[39;00m\n\u001b[1;32m   1728\u001b[0m     mode \u001b[38;5;241m=\u001b[39m \u001b[38;5;124m\"\u001b[39m\u001b[38;5;124mrb\u001b[39m\u001b[38;5;124m\"\u001b[39m\n\u001b[0;32m-> 1729\u001b[0m \u001b[38;5;28mself\u001b[39m\u001b[38;5;241m.\u001b[39mhandles \u001b[38;5;241m=\u001b[39m \u001b[43mget_handle\u001b[49m\u001b[43m(\u001b[49m\n\u001b[1;32m   1730\u001b[0m \u001b[43m    \u001b[49m\u001b[43mf\u001b[49m\u001b[43m,\u001b[49m\n\u001b[1;32m   1731\u001b[0m \u001b[43m    \u001b[49m\u001b[43mmode\u001b[49m\u001b[43m,\u001b[49m\n\u001b[1;32m   1732\u001b[0m \u001b[43m    \u001b[49m\u001b[43mencoding\u001b[49m\u001b[38;5;241;43m=\u001b[39;49m\u001b[38;5;28;43mself\u001b[39;49m\u001b[38;5;241;43m.\u001b[39;49m\u001b[43moptions\u001b[49m\u001b[38;5;241;43m.\u001b[39;49m\u001b[43mget\u001b[49m\u001b[43m(\u001b[49m\u001b[38;5;124;43m\"\u001b[39;49m\u001b[38;5;124;43mencoding\u001b[39;49m\u001b[38;5;124;43m\"\u001b[39;49m\u001b[43m,\u001b[49m\u001b[43m \u001b[49m\u001b[38;5;28;43;01mNone\u001b[39;49;00m\u001b[43m)\u001b[49m\u001b[43m,\u001b[49m\n\u001b[1;32m   1733\u001b[0m \u001b[43m    \u001b[49m\u001b[43mcompression\u001b[49m\u001b[38;5;241;43m=\u001b[39;49m\u001b[38;5;28;43mself\u001b[39;49m\u001b[38;5;241;43m.\u001b[39;49m\u001b[43moptions\u001b[49m\u001b[38;5;241;43m.\u001b[39;49m\u001b[43mget\u001b[49m\u001b[43m(\u001b[49m\u001b[38;5;124;43m\"\u001b[39;49m\u001b[38;5;124;43mcompression\u001b[39;49m\u001b[38;5;124;43m\"\u001b[39;49m\u001b[43m,\u001b[49m\u001b[43m \u001b[49m\u001b[38;5;28;43;01mNone\u001b[39;49;00m\u001b[43m)\u001b[49m\u001b[43m,\u001b[49m\n\u001b[1;32m   1734\u001b[0m \u001b[43m    \u001b[49m\u001b[43mmemory_map\u001b[49m\u001b[38;5;241;43m=\u001b[39;49m\u001b[38;5;28;43mself\u001b[39;49m\u001b[38;5;241;43m.\u001b[39;49m\u001b[43moptions\u001b[49m\u001b[38;5;241;43m.\u001b[39;49m\u001b[43mget\u001b[49m\u001b[43m(\u001b[49m\u001b[38;5;124;43m\"\u001b[39;49m\u001b[38;5;124;43mmemory_map\u001b[39;49m\u001b[38;5;124;43m\"\u001b[39;49m\u001b[43m,\u001b[49m\u001b[43m \u001b[49m\u001b[38;5;28;43;01mFalse\u001b[39;49;00m\u001b[43m)\u001b[49m\u001b[43m,\u001b[49m\n\u001b[1;32m   1735\u001b[0m \u001b[43m    \u001b[49m\u001b[43mis_text\u001b[49m\u001b[38;5;241;43m=\u001b[39;49m\u001b[43mis_text\u001b[49m\u001b[43m,\u001b[49m\n\u001b[1;32m   1736\u001b[0m \u001b[43m    \u001b[49m\u001b[43merrors\u001b[49m\u001b[38;5;241;43m=\u001b[39;49m\u001b[38;5;28;43mself\u001b[39;49m\u001b[38;5;241;43m.\u001b[39;49m\u001b[43moptions\u001b[49m\u001b[38;5;241;43m.\u001b[39;49m\u001b[43mget\u001b[49m\u001b[43m(\u001b[49m\u001b[38;5;124;43m\"\u001b[39;49m\u001b[38;5;124;43mencoding_errors\u001b[39;49m\u001b[38;5;124;43m\"\u001b[39;49m\u001b[43m,\u001b[49m\u001b[43m \u001b[49m\u001b[38;5;124;43m\"\u001b[39;49m\u001b[38;5;124;43mstrict\u001b[39;49m\u001b[38;5;124;43m\"\u001b[39;49m\u001b[43m)\u001b[49m\u001b[43m,\u001b[49m\n\u001b[1;32m   1737\u001b[0m \u001b[43m    \u001b[49m\u001b[43mstorage_options\u001b[49m\u001b[38;5;241;43m=\u001b[39;49m\u001b[38;5;28;43mself\u001b[39;49m\u001b[38;5;241;43m.\u001b[39;49m\u001b[43moptions\u001b[49m\u001b[38;5;241;43m.\u001b[39;49m\u001b[43mget\u001b[49m\u001b[43m(\u001b[49m\u001b[38;5;124;43m\"\u001b[39;49m\u001b[38;5;124;43mstorage_options\u001b[39;49m\u001b[38;5;124;43m\"\u001b[39;49m\u001b[43m,\u001b[49m\u001b[43m \u001b[49m\u001b[38;5;28;43;01mNone\u001b[39;49;00m\u001b[43m)\u001b[49m\u001b[43m,\u001b[49m\n\u001b[1;32m   1738\u001b[0m \u001b[43m\u001b[49m\u001b[43m)\u001b[49m\n\u001b[1;32m   1739\u001b[0m \u001b[38;5;28;01massert\u001b[39;00m \u001b[38;5;28mself\u001b[39m\u001b[38;5;241m.\u001b[39mhandles \u001b[38;5;129;01mis\u001b[39;00m \u001b[38;5;129;01mnot\u001b[39;00m \u001b[38;5;28;01mNone\u001b[39;00m\n\u001b[1;32m   1740\u001b[0m f \u001b[38;5;241m=\u001b[39m \u001b[38;5;28mself\u001b[39m\u001b[38;5;241m.\u001b[39mhandles\u001b[38;5;241m.\u001b[39mhandle\n",
      "File \u001b[0;32m~/opt/anaconda3/envs/opensim/lib/python3.9/site-packages/pandas/io/common.py:857\u001b[0m, in \u001b[0;36mget_handle\u001b[0;34m(path_or_buf, mode, encoding, compression, memory_map, is_text, errors, storage_options)\u001b[0m\n\u001b[1;32m    852\u001b[0m \u001b[38;5;28;01melif\u001b[39;00m \u001b[38;5;28misinstance\u001b[39m(handle, \u001b[38;5;28mstr\u001b[39m):\n\u001b[1;32m    853\u001b[0m     \u001b[38;5;66;03m# Check whether the filename is to be opened in binary mode.\u001b[39;00m\n\u001b[1;32m    854\u001b[0m     \u001b[38;5;66;03m# Binary mode does not support 'encoding' and 'newline'.\u001b[39;00m\n\u001b[1;32m    855\u001b[0m     \u001b[38;5;28;01mif\u001b[39;00m ioargs\u001b[38;5;241m.\u001b[39mencoding \u001b[38;5;129;01mand\u001b[39;00m \u001b[38;5;124m\"\u001b[39m\u001b[38;5;124mb\u001b[39m\u001b[38;5;124m\"\u001b[39m \u001b[38;5;129;01mnot\u001b[39;00m \u001b[38;5;129;01min\u001b[39;00m ioargs\u001b[38;5;241m.\u001b[39mmode:\n\u001b[1;32m    856\u001b[0m         \u001b[38;5;66;03m# Encoding\u001b[39;00m\n\u001b[0;32m--> 857\u001b[0m         handle \u001b[38;5;241m=\u001b[39m \u001b[38;5;28;43mopen\u001b[39;49m\u001b[43m(\u001b[49m\n\u001b[1;32m    858\u001b[0m \u001b[43m            \u001b[49m\u001b[43mhandle\u001b[49m\u001b[43m,\u001b[49m\n\u001b[1;32m    859\u001b[0m \u001b[43m            \u001b[49m\u001b[43mioargs\u001b[49m\u001b[38;5;241;43m.\u001b[39;49m\u001b[43mmode\u001b[49m\u001b[43m,\u001b[49m\n\u001b[1;32m    860\u001b[0m \u001b[43m            \u001b[49m\u001b[43mencoding\u001b[49m\u001b[38;5;241;43m=\u001b[39;49m\u001b[43mioargs\u001b[49m\u001b[38;5;241;43m.\u001b[39;49m\u001b[43mencoding\u001b[49m\u001b[43m,\u001b[49m\n\u001b[1;32m    861\u001b[0m \u001b[43m            \u001b[49m\u001b[43merrors\u001b[49m\u001b[38;5;241;43m=\u001b[39;49m\u001b[43merrors\u001b[49m\u001b[43m,\u001b[49m\n\u001b[1;32m    862\u001b[0m \u001b[43m            \u001b[49m\u001b[43mnewline\u001b[49m\u001b[38;5;241;43m=\u001b[39;49m\u001b[38;5;124;43m\"\u001b[39;49m\u001b[38;5;124;43m\"\u001b[39;49m\u001b[43m,\u001b[49m\n\u001b[1;32m    863\u001b[0m \u001b[43m        \u001b[49m\u001b[43m)\u001b[49m\n\u001b[1;32m    864\u001b[0m     \u001b[38;5;28;01melse\u001b[39;00m:\n\u001b[1;32m    865\u001b[0m         \u001b[38;5;66;03m# Binary mode\u001b[39;00m\n\u001b[1;32m    866\u001b[0m         handle \u001b[38;5;241m=\u001b[39m \u001b[38;5;28mopen\u001b[39m(handle, ioargs\u001b[38;5;241m.\u001b[39mmode)\n",
      "\u001b[0;31mFileNotFoundError\u001b[0m: [Errno 2] No such file or directory: '/Users/psr/Library/CloudStorage/GoogleDrive-paru@stanford.edu/Shared drives/OpencapNMD/Data/opencap_data/f86f706a-d80a-487d-9473-4374268bf79c/MarkerData/PostAugmentation/arm_rom/arm_rom.trc'"
     ]
    }
   ],
   "source": [
    "df_temp = df_trial[df_trial.trial_clean == 'arm_rom']\n",
    "data = []\n",
    "for i, row in tqdm(df_temp.iterrows(), total=df_temp.shape[0]):\n",
    "    pid, sid, trial = row[['pid', 'sid', 'trial']]\n",
    "    fps, markers, xyz = read_trc(get_trc_fpath(sid, trial))        \n",
    "    feats = ocfeats.arm_rom_trc_feats(xyz, markers)\n",
    "    max_mean_sa, mean_ea_at_max_mean_sa, max_min_sa, max_ea_at_max_min_sa, rw = feats\n",
    "\n",
    "    data.append({'pid': pid,\n",
    "                 'max_mean_sa': max_mean_sa,\n",
    "                 'mean_ea_at_max_mean_sa': mean_ea_at_max_mean_sa,\n",
    "                 'max_min_sa': max_min_sa,\n",
    "                 'max_ea_at_max_min_sa': max_ea_at_max_min_sa,\n",
    "                 'reachable_workspace': rw,\n",
    "                })\n",
    "\n",
    "df_temp = pd.DataFrame(data)\n",
    "df_feat.drop(df_temp.columns[1:], axis=1, errors='ignore', inplace=True)\n",
    "df_feat = df_feat.merge(df_temp, on='pid', how='outer')\n"
   ]
  },
  {
   "cell_type": "markdown",
   "id": "cdd099fd-9104-487d-95f8-44fe8f3cae62",
   "metadata": {},
   "source": [
    "### Brooke"
   ]
  },
  {
   "cell_type": "code",
   "execution_count": null,
   "id": "7bd2c341-a566-489b-bae8-9b59f337ea04",
   "metadata": {},
   "outputs": [],
   "source": [
    "df_temp = df_trial[df_trial.trial_clean == 'brooke']\n",
    "data = []\n",
    "for i, row in tqdm(df_temp.iterrows(), total=df_temp.shape[0]):\n",
    "    pid, sid, trial = row[['pid', 'sid', 'trial']]\n",
    "    fps, markers, xyz = read_trc(get_trc_fpath(sid, trial))        \n",
    "    feats = ocfeats.brooke_trc_feats(xyz, markers)\n",
    "    max_mean_sa, max_mean_ea, max_min_sa, max_ea_at_max_min_sa = feats\n",
    "\n",
    "    data.append({'pid': pid,\n",
    "                 'brooke_max_mean_sa': max_mean_sa,\n",
    "                 'brooke_max_mean_ea': max_mean_ea,\n",
    "                 'brooke_max_min_sa': max_min_sa,\n",
    "                 'brooke_max_ea_at_max_min_sa': max_ea_at_max_min_sa,\n",
    "                })\n",
    "\n",
    "df_temp = pd.DataFrame(data)\n",
    "df_feat.drop(df_temp.columns[1:], axis=1, errors='ignore', inplace=True)\n",
    "df_feat = df_feat.merge(df_temp, on='pid', how='outer')\n"
   ]
  },
  {
   "cell_type": "markdown",
   "id": "e11142d1-0fd0-4195-9d2b-87896a2722c6",
   "metadata": {},
   "source": [
    "### Curls"
   ]
  },
  {
   "cell_type": "code",
   "execution_count": null,
   "id": "90f02138-2a7c-4522-ad28-38e83b792bc5",
   "metadata": {},
   "outputs": [],
   "source": [
    "df_temp = df_trial[df_trial.trial_clean == 'curls']\n",
    "data = []\n",
    "for i, row in tqdm(df_temp.iterrows(), total=df_temp.shape[0]):\n",
    "    pid, sid, trial = row[['pid', 'sid', 'trial']]\n",
    "    fps, markers, xyz = read_trc(get_trc_fpath(sid, trial))        \n",
    "    max_mean_ea = ocfeats.curls_trc_feats(xyz, markers)\n",
    "\n",
    "    data.append({'pid': pid,\n",
    "                 'curls_max_mean_ea': max_mean_ea,\n",
    "                })\n",
    "\n",
    "df_temp = pd.DataFrame(data)\n",
    "df_feat.drop(df_temp.columns[1:], axis=1, errors='ignore', inplace=True)\n",
    "df_feat = df_feat.merge(df_temp, on='pid', how='outer')\n"
   ]
  },
  {
   "cell_type": "markdown",
   "id": "d6456efa-c004-4966-838d-fa5cfb97aab0",
   "metadata": {},
   "source": [
    "### 10 Meter Walk"
   ]
  },
  {
   "cell_type": "code",
   "execution_count": null,
   "id": "fbcfa1c8-7667-4b9e-8807-bc02b87b25ef",
   "metadata": {},
   "outputs": [],
   "source": [
    "df_temp = df_trial[df_trial.trial_clean == '10mwt']\n",
    "data = []\n",
    "for i, row in tqdm(df_temp.iterrows(), total=df_temp.shape[0]):\n",
    "    pid, sid, trial = row[['pid', 'sid', 'trial']]\n",
    "    \n",
    "    fps, markers, xyz = read_trc(get_trc_fpath(sid, trial))        \n",
    "    feats = ocfeats.gait_trc_feats(xyz, markers, fps)\n",
    "    time_10m, speed, com_bob, com_sway, last_4m = feats\n",
    "    \n",
    "    df = read_mot(get_mot_fpath(sid, trial))\n",
    "    feats = ocfeats.gait_mot_feats(df, last_4m)\n",
    "    mean_ptp_hip_add, mean_max_ka = feats\n",
    "\n",
    "    data.append({'pid': pid,\n",
    "                 'walk_speed': speed,\n",
    "                 'walk_com_sway': com_sway,\n",
    "                 'walk_mean_ptp_hip_add': mean_ptp_hip_add,\n",
    "                 'walk_mean_max_ka': mean_max_ka,\n",
    "                })\n",
    "\n",
    "df_temp = pd.DataFrame(data)\n",
    "df_feat.drop(df_temp.columns[1:], axis=1, errors='ignore', inplace=True)\n",
    "df_feat = df_feat.merge(df_temp, on='pid', how='outer')\n"
   ]
  },
  {
   "cell_type": "markdown",
   "id": "86863d06-0d68-4bea-885a-245b46bafa34",
   "metadata": {},
   "source": [
    "### 10 Meter Walk/Run"
   ]
  },
  {
   "cell_type": "code",
   "execution_count": null,
   "id": "b90fc4d8-5698-4791-9f43-4f1ab478e9c9",
   "metadata": {},
   "outputs": [],
   "source": [
    "df_temp = df_trial[df_trial.trial_clean == '10mwrt']\n",
    "data = []\n",
    "for i, row in tqdm(df_temp.iterrows(), total=df_temp.shape[0]):\n",
    "    pid, sid, trial = row[['pid', 'sid', 'trial']]\n",
    "    \n",
    "    fps, markers, xyz = read_trc(get_trc_fpath(sid, trial))        \n",
    "    feats = ocfeats.gait_trc_feats(xyz, markers, fps)\n",
    "    time_10m, speed, com_bob, com_sway, last_4m = feats\n",
    "    \n",
    "    df = read_mot(get_mot_fpath(sid, trial))\n",
    "    feats = ocfeats.gait_mot_feats(df, last_4m)\n",
    "    mean_ptp_hip_add, mean_max_ka = feats\n",
    "\n",
    "    data.append({'pid': pid,\n",
    "                 'run_speed': speed,\n",
    "                 'run_com_sway': com_sway,\n",
    "                 'run_mean_ptp_hip_add': mean_ptp_hip_add,\n",
    "                 'run_mean_max_ka': mean_max_ka,\n",
    "                })\n",
    "\n",
    "df_temp = pd.DataFrame(data)\n",
    "df_feat.drop(df_temp.columns[1:], axis=1, errors='ignore', inplace=True)\n",
    "df_feat = df_feat.merge(df_temp, on='pid', how='outer')\n"
   ]
  },
  {
   "cell_type": "markdown",
   "id": "bf5dbee0-3e29-47b9-9a16-1262dcabcb1f",
   "metadata": {},
   "source": [
    "### Jump"
   ]
  },
  {
   "cell_type": "code",
   "execution_count": null,
   "id": "e4563eee-cfd1-4397-b55f-81d711f74d65",
   "metadata": {},
   "outputs": [],
   "source": [
    "df_temp = df_trial[df_trial.trial_clean == 'jump']\n",
    "data = []\n",
    "for i, row in tqdm(df_temp.iterrows(), total=df_temp.shape[0]):\n",
    "    pid, sid, trial = row[['pid', 'sid', 'trial']]\n",
    "    \n",
    "    fps, markers, xyz = read_trc(get_trc_fpath(sid, trial))  \n",
    "    com_xyz = ocfeats.center_of_mass(get_model_fpath(sid),\n",
    "                                     get_mot_fpath(sid, trial))\n",
    "    max_com_vel = ocfeats.jump_trc_feats(com_xyz, fps)\n",
    "\n",
    "    data.append({'pid': pid,\n",
    "                 'jump_max_com_vel': max_com_vel,\n",
    "                })\n",
    "\n",
    "df_temp = pd.DataFrame(data)\n",
    "df_feat.drop(df_temp.columns[1:], axis=1, errors='ignore', inplace=True)\n",
    "df_feat = df_feat.merge(df_temp, on='pid', how='outer')\n"
   ]
  },
  {
   "cell_type": "markdown",
   "id": "c9a8db33-3a75-4784-ab8a-eb3330a91dd4",
   "metadata": {},
   "source": [
    "### Toe Stand"
   ]
  },
  {
   "cell_type": "code",
   "execution_count": null,
   "id": "81fc590e-88db-4471-87e1-5e18e8558af3",
   "metadata": {},
   "outputs": [],
   "source": [
    "df_temp = df_trial[df_trial.trial_clean == 'toe_stand']\n",
    "data = []\n",
    "for i, row in tqdm(df_temp.iterrows(), total=df_temp.shape[0]):\n",
    "    pid, sid, trial = row[['pid', 'sid', 'trial']]\n",
    "    \n",
    "    df = read_mot(get_mot_fpath(sid, trial))        \n",
    "    mean_int_aa = ocfeats.toe_stand_mot_feats(df)\n",
    "    \n",
    "    fps, markers, xyz = read_trc(get_trc_fpath(sid, trial))        \n",
    "    com_xyz = ocfeats.center_of_mass(get_model_fpath(sid),\n",
    "                                     get_mot_fpath(sid, trial))\n",
    "    feats = ocfeats.toe_stand_trc_feats(xyz, markers, fps, com_xyz)\n",
    "    int_com_elev, int_com_fwd, int_mean_heel_elev = feats\n",
    "\n",
    "    data.append({'pid': pid,\n",
    "                 'toe_stand_mean_int_aa': mean_int_aa,\n",
    "                 'toe_stand_int_com_elev': int_com_elev,\n",
    "                 'toe_stand_int_com_fwd': int_com_fwd,\n",
    "                 'toe_stand_int_mean_heel_elev': int_mean_heel_elev,\n",
    "                })\n",
    "\n",
    "df_temp = pd.DataFrame(data)\n",
    "df_feat.drop(df_temp.columns[1:], axis=1, errors='ignore', inplace=True)\n",
    "df_feat = df_feat.merge(df_temp, on='pid', how='outer')\n"
   ]
  },
  {
   "cell_type": "code",
   "execution_count": null,
   "id": "a601e01b-5495-4b3b-8deb-1e462787642f",
   "metadata": {},
   "outputs": [],
   "source": [
    "df_feat.to_pickle('./feats.pkl')\n"
   ]
  },
  {
   "cell_type": "code",
   "execution_count": null,
   "id": "01995c96-a673-444f-a45a-14c16843c3f1",
   "metadata": {},
   "outputs": [],
   "source": [
    "\n"
   ]
  }
 ],
 "metadata": {
  "kernelspec": {
   "display_name": "Python 3 (ipykernel)",
   "language": "python",
   "name": "python3"
  },
  "language_info": {
   "codemirror_mode": {
    "name": "ipython",
    "version": 3
   },
   "file_extension": ".py",
   "mimetype": "text/x-python",
   "name": "python",
   "nbconvert_exporter": "python",
   "pygments_lexer": "ipython3",
   "version": "3.9.16"
  }
 },
 "nbformat": 4,
 "nbformat_minor": 5
}
