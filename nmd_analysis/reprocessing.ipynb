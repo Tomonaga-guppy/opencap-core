{
 "cells": [
  {
   "cell_type": "code",
   "execution_count": 1,
   "id": "f12204d4-27fa-44b9-8d0b-3f19d114ffc4",
   "metadata": {},
   "outputs": [
    {
     "name": "stderr",
     "output_type": "stream",
     "text": [
      "2023-08-03 15:05:27.868176: I tensorflow/core/platform/cpu_feature_guard.cc:193] This TensorFlow binary is optimized with oneAPI Deep Neural Network Library (oneDNN) to use the following CPU instructions in performance-critical operations:  SSE4.1 SSE4.2\n",
      "To enable them in other operations, rebuild TensorFlow with the appropriate compiler flags.\n"
     ]
    }
   ],
   "source": [
    "%load_ext autoreload\n",
    "%autoreload 1\n",
    "%aimport utilsShoulder\n"
   ]
  },
  {
   "cell_type": "code",
   "execution_count": 2,
   "id": "abf2f752-8320-4969-b505-520988d8aaeb",
   "metadata": {},
   "outputs": [],
   "source": [
    "from pathlib import Path\n",
    "\n",
    "import pandas as pd\n",
    "\n",
    "from utilsLoaders import read_trc, read_mot\n",
    "from utilsShoulder import fancy_shoulder\n",
    "\n",
    "gdrive = Path('/Users/psr/Library/CloudStorage/GoogleDrive-paru@stanford.edu')\n",
    "datadir = gdrive / 'Shared drives/OpencapNMD/Data'\n",
    "\n",
    "df_session = pd.read_excel(datadir / 'session_info.xlsx', )\n",
    "df_trial = pd.read_excel(datadir / 'trial_info.xlsx')\n",
    "df_part = pd.read_excel(datadir / 'participant_info.xlsx')\n"
   ]
  },
  {
   "cell_type": "code",
   "execution_count": 5,
   "id": "0bb6daa2-1b08-4751-9350-52ecead27c73",
   "metadata": {},
   "outputs": [
    {
     "name": "stdout",
     "output_type": "stream",
     "text": [
      "Processing session ee23fbb3-a991-4aa4-9a2f-a213ec9ec6c5.\n",
      "Re-scaling model.\n",
      "Static phase of 0.80s detected in staticPose between [0.80, 1.60].\n",
      "Running Scaling\n",
      "\n",
      "opensim-cmd -o error run-tool /Users/psr/Library/CloudStorage/GoogleDrive-paru@stanford.edu/Shared drives/OpencapNMD/Data/opencap_data/ee23fbb3-a991-4aa4-9a2f-a213ec9ec6c5/OpenSimData/Model/Setup_Scale_LaiUhlrich2022_shoulder_scaled.xml\n",
      "\n",
      "[error] Unexpected argument: -o, error, run-tool, /Users/psr/Library/CloudStorage/GoogleDrive-paru@stanford.edu/Shared, drives/OpencapNMD/Data/opencap_data/ee23fbb3-a991-4aa4-9a2f-a213ec9ec6c5/OpenSimData/Model/Setup_Scale_LaiUhlrich2022_shoulder_scaled.xml\n",
      "[error] Use --help to get more information.\n"
     ]
    },
    {
     "ename": "RuntimeError",
     "evalue": "std::exception in 'OpenSim::Model::Model(std::string const &)': Object: Cannot open file /Users/psr/Library/CloudStorage/GoogleDrive-paru@stanford.edu/Shared drives/OpencapNMD/Data/opencap_data/ee23fbb3-a991-4aa4-9a2f-a213ec9ec6c5/OpenSimData/Model/LaiUhlrich2022_shoulder_scaled.osim. It may not exist or you do not have permission to read it.\n\tThrown at Object.cpp:105 in Object().",
     "output_type": "error",
     "traceback": [
      "\u001b[0;31m---------------------------------------------------------------------------\u001b[0m",
      "\u001b[0;31mRuntimeError\u001b[0m                              Traceback (most recent call last)",
      "\u001b[0;32m/var/folders/z2/2j1043_j3yj2ttd_nxtg4z2h0000gn/T/ipykernel_15405/239233302.py\u001b[0m in \u001b[0;36m?\u001b[0;34m()\u001b[0m\n\u001b[0;32m----> 8\u001b[0;31m \u001b[0mshoulder_trials\u001b[0m \u001b[0;34m=\u001b[0m \u001b[0;34m[\u001b[0m\u001b[0;34m'brooke'\u001b[0m\u001b[0;34m,\u001b[0m \u001b[0;34m'arm_rom'\u001b[0m\u001b[0;34m]\u001b[0m\u001b[0;34m\u001b[0m\u001b[0;34m\u001b[0m\u001b[0m\n\u001b[0m\u001b[1;32m      9\u001b[0m \u001b[0mdf_shoulder\u001b[0m \u001b[0;34m=\u001b[0m \u001b[0mdf_trial\u001b[0m\u001b[0;34m[\u001b[0m\u001b[0mdf_trial\u001b[0m\u001b[0;34m.\u001b[0m\u001b[0mtrial\u001b[0m\u001b[0;34m.\u001b[0m\u001b[0misin\u001b[0m\u001b[0;34m(\u001b[0m\u001b[0mshoulder_trials\u001b[0m\u001b[0;34m)\u001b[0m\u001b[0;34m]\u001b[0m\u001b[0;34m\u001b[0m\u001b[0;34m\u001b[0m\u001b[0m\n\u001b[1;32m     10\u001b[0m \u001b[0;34m\u001b[0m\u001b[0m\n\u001b[1;32m     11\u001b[0m \u001b[0mrow\u001b[0m \u001b[0;34m=\u001b[0m \u001b[0mdf_shoulder\u001b[0m\u001b[0;34m.\u001b[0m\u001b[0miloc\u001b[0m\u001b[0;34m[\u001b[0m\u001b[0;36m0\u001b[0m\u001b[0;34m]\u001b[0m\u001b[0;34m\u001b[0m\u001b[0;34m\u001b[0m\u001b[0m\n",
      "\u001b[0;32m~/Documents/Stanford/Research/Delp/OpenCap/opencap-core/nmd_analysis/utilsShoulder.py\u001b[0m in \u001b[0;36m?\u001b[0;34m(session, trial, dataDir)\u001b[0m\n\u001b[1;32m     93\u001b[0m         sessionMetadata['openSimModel'] + '.osim')\n\u001b[1;32m     94\u001b[0m \u001b[0;34m\u001b[0m\u001b[0m\n\u001b[1;32m     95\u001b[0m     \u001b[0;31m# Run scale tool.\u001b[0m\u001b[0;34m\u001b[0m\u001b[0;34m\u001b[0m\u001b[0m\n\u001b[1;32m     96\u001b[0m     \u001b[0mprint\u001b[0m\u001b[0;34m(\u001b[0m\u001b[0;34m'Running Scaling'\u001b[0m\u001b[0;34m)\u001b[0m\u001b[0;34m\u001b[0m\u001b[0;34m\u001b[0m\u001b[0m\n\u001b[0;32m---> 97\u001b[0;31m     pathScaledModel = runScaleTool(\n\u001b[0m\u001b[1;32m     98\u001b[0m         \u001b[0mpathGenericSetupFile4Scaling\u001b[0m\u001b[0;34m,\u001b[0m \u001b[0mpathGenericModel4Scaling\u001b[0m\u001b[0;34m,\u001b[0m\u001b[0;34m\u001b[0m\u001b[0;34m\u001b[0m\u001b[0m\n\u001b[1;32m     99\u001b[0m         \u001b[0msessionMetadata\u001b[0m\u001b[0;34m[\u001b[0m\u001b[0;34m'mass_kg'\u001b[0m\u001b[0;34m]\u001b[0m\u001b[0;34m,\u001b[0m \u001b[0mpathTRCFile4Scaling\u001b[0m\u001b[0;34m,\u001b[0m\u001b[0;34m\u001b[0m\u001b[0;34m\u001b[0m\u001b[0m\n\u001b[1;32m    100\u001b[0m         \u001b[0mtimeRange4Scaling\u001b[0m\u001b[0;34m,\u001b[0m \u001b[0moutputScaledModelDir\u001b[0m\u001b[0;34m,\u001b[0m\u001b[0;34m\u001b[0m\u001b[0;34m\u001b[0m\u001b[0m\n",
      "\u001b[0;32m~/Documents/Stanford/Research/Delp/OpenCap/opencap-core/utilsOpenSim.py\u001b[0m in \u001b[0;36m?\u001b[0;34m(pathGenericSetupFile, pathGenericModel, subjectMass, pathTRCFile, timeRange, pathOutputFolder, scaledModelName, subjectHeight, createModelWithContacts, fixed_markers, suffix_model)\u001b[0m\n\u001b[1;32m    130\u001b[0m     \u001b[0mprint\u001b[0m\u001b[0;34m(\u001b[0m\u001b[0;34m)\u001b[0m\u001b[0;34m\u001b[0m\u001b[0;34m\u001b[0m\u001b[0m\n\u001b[1;32m    131\u001b[0m     \u001b[0mos\u001b[0m\u001b[0;34m.\u001b[0m\u001b[0msystem\u001b[0m\u001b[0;34m(\u001b[0m\u001b[0mcommand\u001b[0m\u001b[0;34m)\u001b[0m\u001b[0;34m\u001b[0m\u001b[0;34m\u001b[0m\u001b[0m\n\u001b[1;32m    132\u001b[0m \u001b[0;34m\u001b[0m\u001b[0m\n\u001b[1;32m    133\u001b[0m     \u001b[0;31m# Sanity check\u001b[0m\u001b[0;34m\u001b[0m\u001b[0;34m\u001b[0m\u001b[0m\n\u001b[0;32m--> 134\u001b[0;31m     \u001b[0mscaled_model\u001b[0m \u001b[0;34m=\u001b[0m \u001b[0mopensim\u001b[0m\u001b[0;34m.\u001b[0m\u001b[0mModel\u001b[0m\u001b[0;34m(\u001b[0m\u001b[0mpathOutputModel\u001b[0m\u001b[0;34m)\u001b[0m\u001b[0;34m\u001b[0m\u001b[0;34m\u001b[0m\u001b[0m\n\u001b[0m\u001b[1;32m    135\u001b[0m     \u001b[0mbodySet\u001b[0m \u001b[0;34m=\u001b[0m \u001b[0mscaled_model\u001b[0m\u001b[0;34m.\u001b[0m\u001b[0mgetBodySet\u001b[0m\u001b[0;34m(\u001b[0m\u001b[0;34m)\u001b[0m\u001b[0;34m\u001b[0m\u001b[0;34m\u001b[0m\u001b[0m\n\u001b[1;32m    136\u001b[0m     \u001b[0mnBodies\u001b[0m \u001b[0;34m=\u001b[0m \u001b[0mbodySet\u001b[0m\u001b[0;34m.\u001b[0m\u001b[0mgetSize\u001b[0m\u001b[0;34m(\u001b[0m\u001b[0;34m)\u001b[0m\u001b[0;34m\u001b[0m\u001b[0;34m\u001b[0m\u001b[0m\n\u001b[1;32m    137\u001b[0m     \u001b[0mscale_factors\u001b[0m \u001b[0;34m=\u001b[0m \u001b[0mnp\u001b[0m\u001b[0;34m.\u001b[0m\u001b[0mzeros\u001b[0m\u001b[0;34m(\u001b[0m\u001b[0;34m(\u001b[0m\u001b[0mnBodies\u001b[0m\u001b[0;34m,\u001b[0m \u001b[0;36m3\u001b[0m\u001b[0;34m)\u001b[0m\u001b[0;34m)\u001b[0m\u001b[0;34m\u001b[0m\u001b[0;34m\u001b[0m\u001b[0m\n",
      "\u001b[0;32m~/opt/anaconda3/envs/opencap-nmd/lib/python3.9/site-packages/opensim/simulation.py\u001b[0m in \u001b[0;36m?\u001b[0;34m(self, *args)\u001b[0m\n\u001b[1;32m  26766\u001b[0m     \u001b[0;32mdef\u001b[0m \u001b[0m__init__\u001b[0m\u001b[0;34m(\u001b[0m\u001b[0mself\u001b[0m\u001b[0;34m,\u001b[0m \u001b[0;34m*\u001b[0m\u001b[0margs\u001b[0m\u001b[0;34m)\u001b[0m\u001b[0;34m:\u001b[0m\u001b[0;34m\u001b[0m\u001b[0;34m\u001b[0m\u001b[0m\n\u001b[0;32m> 26767\u001b[0;31m         \u001b[0m_simulation\u001b[0m\u001b[0;34m.\u001b[0m\u001b[0mModel_swiginit\u001b[0m\u001b[0;34m(\u001b[0m\u001b[0mself\u001b[0m\u001b[0;34m,\u001b[0m \u001b[0m_simulation\u001b[0m\u001b[0;34m.\u001b[0m\u001b[0mnew_Model\u001b[0m\u001b[0;34m(\u001b[0m\u001b[0;34m*\u001b[0m\u001b[0margs\u001b[0m\u001b[0;34m)\u001b[0m\u001b[0;34m)\u001b[0m\u001b[0;34m\u001b[0m\u001b[0;34m\u001b[0m\u001b[0m\n\u001b[0m",
      "\u001b[0;31mRuntimeError\u001b[0m: std::exception in 'OpenSim::Model::Model(std::string const &)': Object: Cannot open file /Users/psr/Library/CloudStorage/GoogleDrive-paru@stanford.edu/Shared drives/OpencapNMD/Data/opencap_data/ee23fbb3-a991-4aa4-9a2f-a213ec9ec6c5/OpenSimData/Model/LaiUhlrich2022_shoulder_scaled.osim. It may not exist or you do not have permission to read it.\n\tThrown at Object.cpp:105 in Object()."
     ]
    }
   ],
   "source": [
    "shoulder_trials = ['brooke', 'arm_rom']\n",
    "df_shoulder = df_trial[df_trial.trial.isin(shoulder_trials)]\n",
    "\n",
    "row = df_shoulder.iloc[0]\n",
    "sid = row.sid\n",
    "trial = row.trial\n",
    "\n",
    "fancy_shoulder(sid, trial, datadir)\n"
   ]
  }
 ],
 "metadata": {
  "kernelspec": {
   "display_name": "Python 3 (ipykernel)",
   "language": "python",
   "name": "python3"
  },
  "language_info": {
   "codemirror_mode": {
    "name": "ipython",
    "version": 3
   },
   "file_extension": ".py",
   "mimetype": "text/x-python",
   "name": "python",
   "nbconvert_exporter": "python",
   "pygments_lexer": "ipython3",
   "version": "3.9.16"
  }
 },
 "nbformat": 4,
 "nbformat_minor": 5
}
