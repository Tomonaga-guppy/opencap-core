{
 "cells": [
  {
   "cell_type": "code",
   "execution_count": 9,
   "id": "f12204d4-27fa-44b9-8d0b-3f19d114ffc4",
   "metadata": {},
   "outputs": [
    {
     "name": "stdout",
     "output_type": "stream",
     "text": [
      "The autoreload extension is already loaded. To reload it, use:\n",
      "  %reload_ext autoreload\n"
     ]
    }
   ],
   "source": [
    "%load_ext autoreload\n",
    "%autoreload 1\n",
    "%aimport utilsShoulder\n"
   ]
  },
  {
   "cell_type": "code",
   "execution_count": 93,
   "id": "abf2f752-8320-4969-b505-520988d8aaeb",
   "metadata": {},
   "outputs": [],
   "source": [
    "from pathlib import Path\n",
    "\n",
    "import pandas as pd\n",
    "\n",
    "from tqdm.auto import tqdm\n",
    "\n",
    "from utilsLoaders import read_trc, read_mot\n",
    "from utilsShoulder import fancy_shoulder\n",
    "\n",
    "datadir = Path('./datadir')\n",
    "df_trial = pd.read_excel(datadir / 'trial_info.xlsx')\n"
   ]
  },
  {
   "cell_type": "code",
   "execution_count": 94,
   "id": "0bb6daa2-1b08-4751-9350-52ecead27c73",
   "metadata": {},
   "outputs": [
    {
     "data": {
      "application/vnd.jupyter.widget-view+json": {
       "model_id": "b3e55be11a634d3bbf14a6374285001e",
       "version_major": 2,
       "version_minor": 0
      },
      "text/plain": [
       "  0%|          | 0/197 [00:00<?, ?it/s]"
      ]
     },
     "metadata": {},
     "output_type": "display_data"
    },
    {
     "name": "stdout",
     "output_type": "stream",
     "text": [
      "ee23fbb3-a991-4aa4-9a2f-a213ec9ec6c5 brooke\n",
      "64ac99c8-f9d2-425d-b990-6d770c0288cd arm_rom\n",
      "Re-scaling model.\n",
      "Static phase of 0.20s detected in staticPose between [0.80, 1.00].\n",
      "Running Scaling\n",
      "\n",
      "opensim-cmd -o error run-tool /Users/psr/Documents/Stanford/Research/Delp/OpenCap/opencap-core/nmd_analysis/datadir/opencap_data/64ac99c8-f9d2-425d-b990-6d770c0288cd/OpenSimData/Model/Setup_Scale_LaiUhlrich2022_shoulder_scaled.xml\n",
      "\n",
      "\n",
      "opensim-cmd -o error run-tool /Users/psr/Documents/Stanford/Research/Delp/OpenCap/opencap-core/nmd_analysis/datadir/opencap_data/64ac99c8-f9d2-425d-b990-6d770c0288cd/OpenSimData/Kinematics/Setup_IK_arm_rom_shoulder.xml\n",
      "\n"
     ]
    }
   ],
   "source": [
    "shoulder_trials = ['brooke', 'arm_rom']\n",
    "df_shoulder = df_trial[df_trial.trial_clean.isin(shoulder_trials)].copy()\n",
    "\n",
    "def sto_path(row):\n",
    "    return datadir / f'opencap_data/{row.sid}/OpenSimData/Dynamics/{row.trial}_shoulder.sto'\n",
    "\n",
    "for i, row in tqdm(df_shoulder.iterrows(), total=len(df_shoulder)):\n",
    "    if sto_path(row).exists():\n",
    "        print(row.sid, row.trial)\n",
    "        continue\n",
    "\n",
    "    print(row.sid, trial)\n",
    "    try:\n",
    "        fancy_shoulder(row.sid, row.trial, datadir)\n",
    "    except Exception as e:\n",
    "        row.sto_path.unlink(missing_ok=True)\n",
    "        raise e\n",
    "\n",
    "    break\n"
   ]
  },
  {
   "cell_type": "code",
   "execution_count": 60,
   "id": "f9459618-dd2d-4480-b153-e60f917700b4",
   "metadata": {},
   "outputs": [
    {
     "data": {
      "application/vnd.jupyter.widget-view+json": {
       "model_id": "3a451e3aa3274e65804c5021f3c5ea8b",
       "version_major": 2,
       "version_minor": 0
      },
      "text/plain": [
       "  0%|          | 0/199 [00:00<?, ?it/s]"
      ]
     },
     "metadata": {},
     "output_type": "display_data"
    },
    {
     "name": "stdout",
     "output_type": "stream",
     "text": [
      "datadir/opencap_data/ee23fbb3-a991-4aa4-9a2f-a213ec9ec6c5/OpenSimData/Dynamics/brooke_shoulder.sto\n",
      "Re-scaling model.\n",
      "Static phase of 0.90s detected in staticPose between [0.40, 1.30].\n",
      "Running Scaling\n",
      "\n",
      "opensim-cmd -o error run-tool /Users/psr/Documents/Stanford/Research/Delp/OpenCap/opencap-core/nmd_analysis/datadir/opencap_data/f86f706a-d80a-487d-9473-4374268bf79c/OpenSimData/Model/Setup_Scale_LaiUhlrich2022_shoulder_scaled.xml\n",
      "\n",
      "\n",
      "opensim-cmd -o error run-tool /Users/psr/Documents/Stanford/Research/Delp/OpenCap/opencap-core/nmd_analysis/datadir/opencap_data/f86f706a-d80a-487d-9473-4374268bf79c/OpenSimData/Kinematics/Setup_IK_arm_rom_shoulder.xml\n",
      "\n",
      "[error] InverseKinematicsTool Failed: File '/Users/psr/Documents/Stanford/Research/Delp/OpenCap/opencap-core/nmd_analysis/datadir/opencap_data/f86f706a-d80a-487d-9473-4374268bf79c/MarkerData/PostAugmentation/arm_rom/arm_rom.trc' does not exist.\n",
      "\tThrown at TRCFileAdapter.cpp:47 in extendRead().\n",
      "[error] InverseKinematicsTool Failed, please see messages window for details...\n",
      "[error] IO.OpenInputFile(const string&,openmode mode): failed to open /Users/psr/Documents/Stanford/Research/Delp/OpenCap/opencap-core/nmd_analysis/datadir/opencap_data/f86f706a-d80a-487d-9473-4374268bf79c/OpenSimData/Kinematics/arm_rom_shoulder.mot.\n",
      "[error] InverseDynamicsTool Failed: Storage: Failed to open file '/Users/psr/Documents/Stanford/Research/Delp/OpenCap/opencap-core/nmd_analysis/datadir/opencap_data/f86f706a-d80a-487d-9473-4374268bf79c/OpenSimData/Kinematics/arm_rom_shoulder.mot'. Verify that the file exists at the specified location.\n",
      "\tThrown at Storage.cpp:185 in Storage().\n",
      "[error] InverseDynamicsTool Failed, please see messages window for details...\n"
     ]
    },
    {
     "data": {
      "text/plain": [
       "PosixPath('datadir/opencap_data/f86f706a-d80a-487d-9473-4374268bf79c/OpenSimData/Dynamics/arm_rom_shoulder.sto')"
      ]
     },
     "execution_count": 60,
     "metadata": {},
     "output_type": "execute_result"
    }
   ],
   "source": [
    "\n",
    "for i, row in tqdm(df_shoulder.iterrows(), total=len(df_shoulder)):\n",
    "    sid = row.sid\n",
    "    trial = row.trial\n",
    "\n",
    "    sto_path = datadir / f'opencap_data/{sid}/OpenSimData/Dynamics/{trial}_shoulder.sto'\n",
    "    if sto_path.exists():\n",
    "        print(sto_path)\n",
    "        continue\n",
    "    \n",
    "    fancy_shoulder(sid, trial, datadir)\n",
    "\n",
    "    break\n",
    "\n",
    "sto_path\n"
   ]
  }
 ],
 "metadata": {
  "kernelspec": {
   "display_name": "Python 3 (ipykernel)",
   "language": "python",
   "name": "python3"
  },
  "language_info": {
   "codemirror_mode": {
    "name": "ipython",
    "version": 3
   },
   "file_extension": ".py",
   "mimetype": "text/x-python",
   "name": "python",
   "nbconvert_exporter": "python",
   "pygments_lexer": "ipython3",
   "version": "3.9.16"
  }
 },
 "nbformat": 4,
 "nbformat_minor": 5
}
