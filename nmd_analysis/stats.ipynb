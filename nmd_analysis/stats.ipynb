{
 "cells": [
  {
   "cell_type": "code",
   "execution_count": 136,
   "id": "9c23e9a1-908f-4a39-bf56-3e55a4c63ba8",
   "metadata": {},
   "outputs": [],
   "source": [
    "from pathlib import Path\n",
    "\n",
    "import pandas as pd # also openpyxl for xlsx files\n",
    "import numpy as np\n",
    "import scipy.signal as ss\n",
    "import matplotlib.pyplot as plt\n",
    "import seaborn as sns\n",
    "\n",
    "from tqdm.auto import tqdm, trange\n",
    "\n",
    "# from utils import read_trc, read_mot\n",
    "# import ocfeats\n",
    "\n",
    "# gdrive = Path('/Volumes/GoogleDrive-112026393729621442608')\n",
    "gdrive = Path('/Users/psr/Library/CloudStorage/GoogleDrive-paru@stanford.edu')\n",
    "datadir = gdrive / 'My Drive/NMBL Lab/OpenCap for NMD biomarkers/data'\n",
    "dataset = '2023-05_dhd'\n"
   ]
  },
  {
   "cell_type": "code",
   "execution_count": 137,
   "id": "7cd22b5f-3b78-4fad-995e-45e0e1fafbc7",
   "metadata": {},
   "outputs": [],
   "source": [
    "# colorblind friendly palette\n",
    "from cycler import cycler\n",
    "cp = [\"#172A5A\", \"#FF7171\", \"#227567\", \"#34BAEA\", \"#F9D466\"]\n",
    "plt.rcParams['axes.prop_cycle'] = cycler(color=cp)\n",
    "\n",
    "# set default font\n",
    "plt.rcParams['font.family'] = 'sans-serif'\n",
    "plt.rcParams['font.sans-serif'] = ['Open Sans', 'Arial']\n",
    "\n",
    "# automatically despine\n",
    "plt.rcParams['axes.spines.top'] = False\n",
    "plt.rcParams['axes.spines.right'] = False\n",
    "\n",
    "# set defualt DPI\n",
    "plt.rcParams['figure.dpi'] = 72\n",
    "\n"
   ]
  },
  {
   "cell_type": "code",
   "execution_count": 138,
   "id": "5ce3e26a-9704-4e4b-b977-e010f787d648",
   "metadata": {},
   "outputs": [],
   "source": [
    "df_session = pd.read_excel(datadir / dataset / 'session_info.xlsx', )\n",
    "df_trial = pd.read_excel(datadir / dataset / 'trial_info.xlsx')\n",
    "df_part = pd.read_excel(datadir / dataset / 'participant_info.xlsx')\n",
    "\n",
    "feats_path = Path('./feats.pkl')\n",
    "df_feat = pd.read_pickle(feats_path)\n",
    "\n",
    "survey_fpath = gdrive / datadir / dataset / 'redcap_data/DHD Data Export_6June2023.csv'\n",
    "df_survey = pd.read_csv(survey_fpath, usecols=['open_id', 'activ_total'] + [f'activ_{i+1}' for i in range(22)])\n",
    "df_survey['pid'] = df_survey.open_id.apply(lambda x: x.lower() if isinstance(x, str) else x)\n",
    "df_survey.drop(columns='open_id', inplace=True)\n",
    "# df_survey = df_survey[['pid'] + list(df_survey.columns[:-1])]\n"
   ]
  },
  {
   "cell_type": "code",
   "execution_count": 139,
   "id": "a3dac306-e143-460b-becd-e52db89e71c0",
   "metadata": {},
   "outputs": [],
   "source": [
    "oc_feats = list(df_feat.columns[1:])\n",
    "tft_feats = [f for f in df_part.columns if f.startswith('time_')]\n",
    "tfts_and_brooke = tft_feats + ['brooke']\n",
    "pro_feats = list(df_survey.columns[1:-1])\n",
    "\n",
    "df_all = df_feat.merge(df_part, on='pid', how='outer')\n",
    "df_all = df_all.merge(df_survey, on='pid', how='outer')\n"
   ]
  },
  {
   "cell_type": "code",
   "execution_count": 140,
   "id": "6fb076a2-855d-46c4-bae3-4997dfd8d23e",
   "metadata": {
    "tags": []
   },
   "outputs": [],
   "source": [
    "from sklearn.discriminant_analysis import LinearDiscriminantAnalysis\n",
    "from sklearn.metrics import accuracy_score\n",
    "\n",
    "def three_class_lda_cv(data, feats, label, show=True):\n",
    "    df_train = data[['pid']+[label]+feats].dropna()\n",
    "\n",
    "    X = df_train.loc[:,feats].values\n",
    "    y = df_train.loc[:,label].values\n",
    "\n",
    "    X -= X.mean(axis=0)\n",
    "    X /= X.std(axis=0)\n",
    "\n",
    "    lda = LinearDiscriminantAnalysis(n_components=2)\n",
    "\n",
    "    df_out = df_train[['pid', 'type']].copy()\n",
    "    df_out.loc[:,['lda1', 'lda2', 'pred']] = np.nan\n",
    "    df_out.set_index('pid', inplace=True)\n",
    "    df_out\n",
    "\n",
    "    N_samples = X.shape[0]\n",
    "    for k in range(N_samples):\n",
    "        pid = df_out.index[k]\n",
    "        X_train = X[np.arange(N_samples)!=k, :]\n",
    "        y_train = y[np.arange(N_samples)!=k]\n",
    "        lda.fit(X_train, y_train)\n",
    "        ldas = lda.transform(X[k:k+1,:])\n",
    "        df_out.loc[pid, ['lda1', 'lda2']] = ldas\n",
    "        df_out.loc[pid, ['pred']] = lda.predict(X[k:k+1,:])\n",
    "\n",
    "    acc = accuracy_score(y, df_out.pred)\n",
    "\n",
    "    if show:\n",
    "        plt.figure(figsize=(5,4))\n",
    "        sns.scatterplot(df_out, x='lda1', y='lda2', hue='type',\n",
    "                        palette=[cp[0], cp[3], cp[1]],\n",
    "                        hue_order=['DM', 'FSHD', 'CTL'],\n",
    "                        s=15)\n",
    "        plt.legend(loc='center left',\n",
    "                   # frameon=False, borderpad=0, borderaxespad=0,\n",
    "                   bbox_to_anchor=(1, 0.5))\n",
    "        plt.title(f'Accuracy = {acc:0.3f}')\n",
    "        sns.despine()\n",
    "        plt.tight_layout()\n",
    "        # plt.savefig('./temp_lda_oc.pdf')\n",
    "        plt.show()\n",
    "    \n",
    "    return df_out, acc\n"
   ]
  },
  {
   "cell_type": "code",
   "execution_count": 141,
   "id": "b422638e-5796-4fbe-8836-089759a497a9",
   "metadata": {},
   "outputs": [],
   "source": [
    "tft_feats = [x for x in tft_feats if 'line' not in x]\n"
   ]
  },
  {
   "cell_type": "code",
   "execution_count": 142,
   "id": "ce34f80a-240a-4ce0-b699-c09a23ccaa83",
   "metadata": {},
   "outputs": [
    {
     "data": {
      "text/plain": [
       "['time_10mwt', 'time_10mwrt', 'time_tug_cone', 'time_5xsts', 'time_stairs_up']"
      ]
     },
     "execution_count": 142,
     "metadata": {},
     "output_type": "execute_result"
    }
   ],
   "source": [
    "tft_feats\n"
   ]
  },
  {
   "cell_type": "code",
   "execution_count": 143,
   "id": "1b3e7f13-da06-4531-a99f-115ab6f478a0",
   "metadata": {},
   "outputs": [
    {
     "name": "stdout",
     "output_type": "stream",
     "text": [
      "Included Data:\n",
      " CTL 35\n",
      "  DM 22\n",
      "FSHD 23\n"
     ]
    },
    {
     "data": {
      "image/png": "[encoded data removed]",
      "text/plain": [
       "<Figure size 360x288 with 1 Axes>"
      ]
     },
     "metadata": {},
     "output_type": "display_data"
    },
    {
     "data": {
      "image/png": "[encoded data removed]",
      "text/plain": [
       "<Figure size 360x288 with 1 Axes>"
      ]
     },
     "metadata": {},
     "output_type": "display_data"
    },
    {
     "name": "stdout",
     "output_type": "stream",
     "text": [
      "0.7375 0.4875 0.25000000000000006 0.512820512820513\n"
     ]
    }
   ],
   "source": [
    "feats = oc_feats\n",
    "feats = ['brooke_max_min_sa',\n",
    "         'mean_ea_at_max_mean_sa',\n",
    "         'reachable_workspace',\n",
    "         'run_speed',\n",
    "         'jump_max_com_vel',\n",
    "         'mean_int_aa']\n",
    "\n",
    "all_feats = feats + tft_feats + ['brooke'] + ['activ_total']\n",
    "\n",
    "df_include = df_all[['pid', 'type']+all_feats].dropna()\n",
    "\n",
    "counts = df_include.groupby('type').count()['pid'].reset_index()\n",
    "print(\"Included Data:\")\n",
    "print(counts.to_string(index=False, header = False))\n",
    "\n",
    "df_out_oc, acc_oc = three_class_lda_cv(df_include, feats, 'type')\n",
    "# _ = three_class_lda_cv(df_include, tfts_and_brooke, 'type')\n",
    "df_out_tft, acc_tft = three_class_lda_cv(df_include, tft_feats, 'type')\n",
    "\n",
    "print(acc_oc, acc_tft, acc_oc-acc_tft, (acc_oc - acc_tft) / acc_tft)\n"
   ]
  },
  {
   "cell_type": "code",
   "execution_count": 134,
   "id": "a5263eb7-f17d-4ce3-99ee-59e2d3e2e941",
   "metadata": {
    "jupyter": {
     "source_hidden": true
    },
    "tags": []
   },
   "outputs": [
    {
     "data": {
      "application/vnd.jupyter.widget-view+json": {
       "model_id": "0be56933497141c2adf1560a244db6e7",
       "version_major": 2,
       "version_minor": 0
      },
      "text/plain": [
       "  0%|          | 0/1000 [00:00<?, ?it/s]"
      ]
     },
     "metadata": {},
     "output_type": "display_data"
    },
    {
     "ename": "KeyboardInterrupt",
     "evalue": "",
     "output_type": "error",
     "traceback": [
      "\u001b[0;31m---------------------------------------------------------------------------\u001b[0m",
      "\u001b[0;31mKeyboardInterrupt\u001b[0m                         Traceback (most recent call last)",
      "Cell \u001b[0;32mIn[134], line 11\u001b[0m\n\u001b[1;32m      8\u001b[0m df_shuffle\u001b[38;5;241m.\u001b[39mtype \u001b[38;5;241m=\u001b[39m rng\u001b[38;5;241m.\u001b[39mpermuted(df_shuffle\u001b[38;5;241m.\u001b[39mtype\u001b[38;5;241m.\u001b[39mvalues)\n\u001b[1;32m      9\u001b[0m df_shuffle\n\u001b[0;32m---> 11\u001b[0m df_out_oc, acc_oc \u001b[38;5;241m=\u001b[39m \u001b[43mthree_class_lda_cv\u001b[49m\u001b[43m(\u001b[49m\u001b[43mdf_shuffle\u001b[49m\u001b[43m,\u001b[49m\u001b[43m \u001b[49m\u001b[43mfeats\u001b[49m\u001b[43m,\u001b[49m\u001b[43m \u001b[49m\u001b[38;5;124;43m'\u001b[39;49m\u001b[38;5;124;43mtype\u001b[39;49m\u001b[38;5;124;43m'\u001b[39;49m\u001b[43m,\u001b[49m\u001b[43m \u001b[49m\u001b[43mshow\u001b[49m\u001b[38;5;241;43m=\u001b[39;49m\u001b[38;5;28;43;01mFalse\u001b[39;49;00m\u001b[43m)\u001b[49m\n\u001b[1;32m     12\u001b[0m df_out_tft, acc_tft \u001b[38;5;241m=\u001b[39m three_class_lda_cv(df_shuffle, tft_feats, \u001b[38;5;124m'\u001b[39m\u001b[38;5;124mtype\u001b[39m\u001b[38;5;124m'\u001b[39m, show\u001b[38;5;241m=\u001b[39m\u001b[38;5;28;01mFalse\u001b[39;00m)\n\u001b[1;32m     14\u001b[0m acc_ocs\u001b[38;5;241m.\u001b[39mappend(acc_oc)\n",
      "Cell \u001b[0;32mIn[61], line 27\u001b[0m, in \u001b[0;36mthree_class_lda_cv\u001b[0;34m(data, feats, label, show)\u001b[0m\n\u001b[1;32m     25\u001b[0m     lda\u001b[38;5;241m.\u001b[39mfit(X_train, y_train)\n\u001b[1;32m     26\u001b[0m     ldas \u001b[38;5;241m=\u001b[39m lda\u001b[38;5;241m.\u001b[39mtransform(X[k:k\u001b[38;5;241m+\u001b[39m\u001b[38;5;241m1\u001b[39m,:])\n\u001b[0;32m---> 27\u001b[0m     \u001b[43mdf_out\u001b[49m\u001b[38;5;241;43m.\u001b[39;49m\u001b[43mloc\u001b[49m\u001b[43m[\u001b[49m\u001b[43mpid\u001b[49m\u001b[43m,\u001b[49m\u001b[43m \u001b[49m\u001b[43m[\u001b[49m\u001b[38;5;124;43m'\u001b[39;49m\u001b[38;5;124;43mlda1\u001b[39;49m\u001b[38;5;124;43m'\u001b[39;49m\u001b[43m,\u001b[49m\u001b[43m \u001b[49m\u001b[38;5;124;43m'\u001b[39;49m\u001b[38;5;124;43mlda2\u001b[39;49m\u001b[38;5;124;43m'\u001b[39;49m\u001b[43m]\u001b[49m\u001b[43m]\u001b[49m \u001b[38;5;241m=\u001b[39m ldas\n\u001b[1;32m     28\u001b[0m     df_out\u001b[38;5;241m.\u001b[39mloc[pid, [\u001b[38;5;124m'\u001b[39m\u001b[38;5;124mpred\u001b[39m\u001b[38;5;124m'\u001b[39m]] \u001b[38;5;241m=\u001b[39m lda\u001b[38;5;241m.\u001b[39mpredict(X[k:k\u001b[38;5;241m+\u001b[39m\u001b[38;5;241m1\u001b[39m,:])\n\u001b[1;32m     30\u001b[0m acc \u001b[38;5;241m=\u001b[39m accuracy_score(y, df_out\u001b[38;5;241m.\u001b[39mpred)\n",
      "File \u001b[0;32m~/opt/anaconda3/envs/sci/lib/python3.10/site-packages/pandas/core/indexing.py:845\u001b[0m, in \u001b[0;36m_LocationIndexer.__setitem__\u001b[0;34m(self, key, value)\u001b[0m\n\u001b[1;32m    843\u001b[0m \u001b[38;5;28;01melse\u001b[39;00m:\n\u001b[1;32m    844\u001b[0m     key \u001b[38;5;241m=\u001b[39m com\u001b[38;5;241m.\u001b[39mapply_if_callable(key, \u001b[38;5;28mself\u001b[39m\u001b[38;5;241m.\u001b[39mobj)\n\u001b[0;32m--> 845\u001b[0m indexer \u001b[38;5;241m=\u001b[39m \u001b[38;5;28;43mself\u001b[39;49m\u001b[38;5;241;43m.\u001b[39;49m\u001b[43m_get_setitem_indexer\u001b[49m\u001b[43m(\u001b[49m\u001b[43mkey\u001b[49m\u001b[43m)\u001b[49m\n\u001b[1;32m    846\u001b[0m \u001b[38;5;28mself\u001b[39m\u001b[38;5;241m.\u001b[39m_has_valid_setitem_indexer(key)\n\u001b[1;32m    848\u001b[0m iloc \u001b[38;5;241m=\u001b[39m \u001b[38;5;28mself\u001b[39m \u001b[38;5;28;01mif\u001b[39;00m \u001b[38;5;28mself\u001b[39m\u001b[38;5;241m.\u001b[39mname \u001b[38;5;241m==\u001b[39m \u001b[38;5;124m\"\u001b[39m\u001b[38;5;124miloc\u001b[39m\u001b[38;5;124m\"\u001b[39m \u001b[38;5;28;01melse\u001b[39;00m \u001b[38;5;28mself\u001b[39m\u001b[38;5;241m.\u001b[39mobj\u001b[38;5;241m.\u001b[39miloc\n",
      "File \u001b[0;32m~/opt/anaconda3/envs/sci/lib/python3.10/site-packages/pandas/core/indexing.py:691\u001b[0m, in \u001b[0;36m_LocationIndexer._get_setitem_indexer\u001b[0;34m(self, key)\u001b[0m\n\u001b[1;32m    686\u001b[0m \u001b[38;5;250m\u001b[39m\u001b[38;5;124;03m\"\"\"\u001b[39;00m\n\u001b[1;32m    687\u001b[0m \u001b[38;5;124;03mConvert a potentially-label-based key into a positional indexer.\u001b[39;00m\n\u001b[1;32m    688\u001b[0m \u001b[38;5;124;03m\"\"\"\u001b[39;00m\n\u001b[1;32m    689\u001b[0m \u001b[38;5;28;01mif\u001b[39;00m \u001b[38;5;28mself\u001b[39m\u001b[38;5;241m.\u001b[39mname \u001b[38;5;241m==\u001b[39m \u001b[38;5;124m\"\u001b[39m\u001b[38;5;124mloc\u001b[39m\u001b[38;5;124m\"\u001b[39m:\n\u001b[1;32m    690\u001b[0m     \u001b[38;5;66;03m# always holds here bc iloc overrides _get_setitem_indexer\u001b[39;00m\n\u001b[0;32m--> 691\u001b[0m     \u001b[38;5;28;43mself\u001b[39;49m\u001b[38;5;241;43m.\u001b[39;49m\u001b[43m_ensure_listlike_indexer\u001b[49m\u001b[43m(\u001b[49m\u001b[43mkey\u001b[49m\u001b[43m)\u001b[49m\n\u001b[1;32m    693\u001b[0m \u001b[38;5;28;01mif\u001b[39;00m \u001b[38;5;28misinstance\u001b[39m(key, \u001b[38;5;28mtuple\u001b[39m):\n\u001b[1;32m    694\u001b[0m     \u001b[38;5;28;01mfor\u001b[39;00m x \u001b[38;5;129;01min\u001b[39;00m key:\n",
      "File \u001b[0;32m~/opt/anaconda3/envs/sci/lib/python3.10/site-packages/pandas/core/indexing.py:811\u001b[0m, in \u001b[0;36m_LocationIndexer._ensure_listlike_indexer\u001b[0;34m(self, key, axis, value)\u001b[0m\n\u001b[1;32m    802\u001b[0m \u001b[38;5;28;01mif\u001b[39;00m (\n\u001b[1;32m    803\u001b[0m     axis \u001b[38;5;241m==\u001b[39m column_axis\n\u001b[1;32m    804\u001b[0m     \u001b[38;5;129;01mand\u001b[39;00m \u001b[38;5;129;01mnot\u001b[39;00m \u001b[38;5;28misinstance\u001b[39m(\u001b[38;5;28mself\u001b[39m\u001b[38;5;241m.\u001b[39mobj\u001b[38;5;241m.\u001b[39mcolumns, MultiIndex)\n\u001b[0;32m   (...)\u001b[0m\n\u001b[1;32m    808\u001b[0m ):\n\u001b[1;32m    809\u001b[0m     \u001b[38;5;66;03m# GH#38148\u001b[39;00m\n\u001b[1;32m    810\u001b[0m     keys \u001b[38;5;241m=\u001b[39m \u001b[38;5;28mself\u001b[39m\u001b[38;5;241m.\u001b[39mobj\u001b[38;5;241m.\u001b[39mcolumns\u001b[38;5;241m.\u001b[39munion(key, sort\u001b[38;5;241m=\u001b[39m\u001b[38;5;28;01mFalse\u001b[39;00m)\n\u001b[0;32m--> 811\u001b[0m     diff \u001b[38;5;241m=\u001b[39m \u001b[43mIndex\u001b[49m\u001b[43m(\u001b[49m\u001b[43mkey\u001b[49m\u001b[43m)\u001b[49m\u001b[38;5;241;43m.\u001b[39;49m\u001b[43mdifference\u001b[49m\u001b[43m(\u001b[49m\u001b[38;5;28;43mself\u001b[39;49m\u001b[38;5;241;43m.\u001b[39;49m\u001b[43mobj\u001b[49m\u001b[38;5;241;43m.\u001b[39;49m\u001b[43mcolumns\u001b[49m\u001b[43m,\u001b[49m\u001b[43m \u001b[49m\u001b[43msort\u001b[49m\u001b[38;5;241;43m=\u001b[39;49m\u001b[38;5;28;43;01mFalse\u001b[39;49;00m\u001b[43m)\u001b[49m\n\u001b[1;32m    813\u001b[0m     \u001b[38;5;28;01mif\u001b[39;00m \u001b[38;5;28mlen\u001b[39m(diff) \u001b[38;5;129;01mand\u001b[39;00m com\u001b[38;5;241m.\u001b[39mis_null_slice(orig_key[\u001b[38;5;241m0\u001b[39m]):\n\u001b[1;32m    814\u001b[0m         \u001b[38;5;66;03m# e.g. if we are doing df.loc[:, [\"A\", \"B\"]] = 7 and \"B\"\u001b[39;00m\n\u001b[1;32m    815\u001b[0m         \u001b[38;5;66;03m#  is a new column, add the new columns with dtype=np.void\u001b[39;00m\n\u001b[0;32m   (...)\u001b[0m\n\u001b[1;32m    819\u001b[0m         \u001b[38;5;66;03m#  would successfully hold 7, so we would end up with the wrong\u001b[39;00m\n\u001b[1;32m    820\u001b[0m         \u001b[38;5;66;03m#  dtype.\u001b[39;00m\n\u001b[1;32m    821\u001b[0m         indexer \u001b[38;5;241m=\u001b[39m np\u001b[38;5;241m.\u001b[39marange(\u001b[38;5;28mlen\u001b[39m(keys), dtype\u001b[38;5;241m=\u001b[39mnp\u001b[38;5;241m.\u001b[39mintp)\n",
      "File \u001b[0;32m~/opt/anaconda3/envs/sci/lib/python3.10/site-packages/pandas/core/indexes/base.py:3500\u001b[0m, in \u001b[0;36mIndex.difference\u001b[0;34m(self, other, sort)\u001b[0m\n\u001b[1;32m   3497\u001b[0m         \u001b[38;5;28;01mreturn\u001b[39;00m result\u001b[38;5;241m.\u001b[39msort_values()\n\u001b[1;32m   3498\u001b[0m     \u001b[38;5;28;01mreturn\u001b[39;00m result\n\u001b[0;32m-> 3500\u001b[0m result \u001b[38;5;241m=\u001b[39m \u001b[38;5;28;43mself\u001b[39;49m\u001b[38;5;241;43m.\u001b[39;49m\u001b[43m_difference\u001b[49m\u001b[43m(\u001b[49m\u001b[43mother\u001b[49m\u001b[43m,\u001b[49m\u001b[43m \u001b[49m\u001b[43msort\u001b[49m\u001b[38;5;241;43m=\u001b[39;49m\u001b[43msort\u001b[49m\u001b[43m)\u001b[49m\n\u001b[1;32m   3501\u001b[0m \u001b[38;5;28;01mreturn\u001b[39;00m \u001b[38;5;28mself\u001b[39m\u001b[38;5;241m.\u001b[39m_wrap_difference_result(other, result)\n",
      "File \u001b[0;32m~/opt/anaconda3/envs/sci/lib/python3.10/site-packages/pandas/core/indexes/base.py:3511\u001b[0m, in \u001b[0;36mIndex._difference\u001b[0;34m(self, other, sort)\u001b[0m\n\u001b[1;32m   3508\u001b[0m indexer \u001b[38;5;241m=\u001b[39m this\u001b[38;5;241m.\u001b[39mget_indexer_for(other)\n\u001b[1;32m   3509\u001b[0m indexer \u001b[38;5;241m=\u001b[39m indexer\u001b[38;5;241m.\u001b[39mtake((indexer \u001b[38;5;241m!=\u001b[39m \u001b[38;5;241m-\u001b[39m\u001b[38;5;241m1\u001b[39m)\u001b[38;5;241m.\u001b[39mnonzero()[\u001b[38;5;241m0\u001b[39m])\n\u001b[0;32m-> 3511\u001b[0m label_diff \u001b[38;5;241m=\u001b[39m \u001b[43mnp\u001b[49m\u001b[38;5;241;43m.\u001b[39;49m\u001b[43msetdiff1d\u001b[49m\u001b[43m(\u001b[49m\u001b[43mnp\u001b[49m\u001b[38;5;241;43m.\u001b[39;49m\u001b[43marange\u001b[49m\u001b[43m(\u001b[49m\u001b[43mthis\u001b[49m\u001b[38;5;241;43m.\u001b[39;49m\u001b[43msize\u001b[49m\u001b[43m)\u001b[49m\u001b[43m,\u001b[49m\u001b[43m \u001b[49m\u001b[43mindexer\u001b[49m\u001b[43m,\u001b[49m\u001b[43m \u001b[49m\u001b[43massume_unique\u001b[49m\u001b[38;5;241;43m=\u001b[39;49m\u001b[38;5;28;43;01mTrue\u001b[39;49;00m\u001b[43m)\u001b[49m\n\u001b[1;32m   3513\u001b[0m the_diff: MultiIndex \u001b[38;5;241m|\u001b[39m ArrayLike\n\u001b[1;32m   3514\u001b[0m \u001b[38;5;28;01mif\u001b[39;00m \u001b[38;5;28misinstance\u001b[39m(this, ABCMultiIndex):\n",
      "File \u001b[0;32m<__array_function__ internals>:200\u001b[0m, in \u001b[0;36msetdiff1d\u001b[0;34m(*args, **kwargs)\u001b[0m\n",
      "File \u001b[0;32m~/opt/anaconda3/envs/sci/lib/python3.10/site-packages/numpy/lib/arraysetops.py:981\u001b[0m, in \u001b[0;36msetdiff1d\u001b[0;34m(ar1, ar2, assume_unique)\u001b[0m\n\u001b[1;32m    979\u001b[0m     ar1 \u001b[38;5;241m=\u001b[39m unique(ar1)\n\u001b[1;32m    980\u001b[0m     ar2 \u001b[38;5;241m=\u001b[39m unique(ar2)\n\u001b[0;32m--> 981\u001b[0m \u001b[38;5;28;01mreturn\u001b[39;00m ar1[\u001b[43min1d\u001b[49m\u001b[43m(\u001b[49m\u001b[43mar1\u001b[49m\u001b[43m,\u001b[49m\u001b[43m \u001b[49m\u001b[43mar2\u001b[49m\u001b[43m,\u001b[49m\u001b[43m \u001b[49m\u001b[43massume_unique\u001b[49m\u001b[38;5;241;43m=\u001b[39;49m\u001b[38;5;28;43;01mTrue\u001b[39;49;00m\u001b[43m,\u001b[49m\u001b[43m \u001b[49m\u001b[43minvert\u001b[49m\u001b[38;5;241;43m=\u001b[39;49m\u001b[38;5;28;43;01mTrue\u001b[39;49;00m\u001b[43m)\u001b[49m]\n",
      "File \u001b[0;32m<__array_function__ internals>:200\u001b[0m, in \u001b[0;36min1d\u001b[0;34m(*args, **kwargs)\u001b[0m\n",
      "File \u001b[0;32m~/opt/anaconda3/envs/sci/lib/python3.10/site-packages/numpy/lib/arraysetops.py:655\u001b[0m, in \u001b[0;36min1d\u001b[0;34m(ar1, ar2, assume_unique, invert, kind)\u001b[0m\n\u001b[1;32m    653\u001b[0m below_memory_constraint \u001b[38;5;241m=\u001b[39m ar2_range \u001b[38;5;241m<\u001b[39m\u001b[38;5;241m=\u001b[39m \u001b[38;5;241m6\u001b[39m \u001b[38;5;241m*\u001b[39m (ar1\u001b[38;5;241m.\u001b[39msize \u001b[38;5;241m+\u001b[39m ar2\u001b[38;5;241m.\u001b[39msize)\n\u001b[1;32m    654\u001b[0m \u001b[38;5;66;03m#  2. Check overflows for (ar2 - ar2_min); dtype=ar2.dtype\u001b[39;00m\n\u001b[0;32m--> 655\u001b[0m range_safe_from_overflow \u001b[38;5;241m=\u001b[39m ar2_range \u001b[38;5;241m<\u001b[39m\u001b[38;5;241m=\u001b[39m \u001b[43mnp\u001b[49m\u001b[38;5;241;43m.\u001b[39;49m\u001b[43miinfo\u001b[49m\u001b[43m(\u001b[49m\u001b[43mar2\u001b[49m\u001b[38;5;241;43m.\u001b[39;49m\u001b[43mdtype\u001b[49m\u001b[43m)\u001b[49m\u001b[38;5;241m.\u001b[39mmax\n\u001b[1;32m    656\u001b[0m \u001b[38;5;66;03m#  3. Check overflows for (ar1 - ar2_min); dtype=ar1.dtype\u001b[39;00m\n\u001b[1;32m    657\u001b[0m \u001b[38;5;28;01mif\u001b[39;00m ar1\u001b[38;5;241m.\u001b[39msize \u001b[38;5;241m>\u001b[39m \u001b[38;5;241m0\u001b[39m:\n",
      "\u001b[0;31mKeyboardInterrupt\u001b[0m: "
     ]
    }
   ],
   "source": [
    "# rng = np.random.default_rng(0)\n",
    "\n",
    "# N_sims = 1000 \n",
    "# acc_ocs = []\n",
    "# acc_tfts = []\n",
    "# for k in trange(N_sims):\n",
    "#     df_shuffle = df_include.copy()\n",
    "#     df_shuffle.type = rng.permuted(df_shuffle.type.values)\n",
    "#     df_shuffle\n",
    "\n",
    "#     df_out_oc, acc_oc = three_class_lda_cv(df_shuffle, feats, 'type', show=False)\n",
    "#     df_out_tft, acc_tft = three_class_lda_cv(df_shuffle, tft_feats, 'type', show=False)\n",
    "    \n",
    "#     acc_ocs.append(acc_oc)\n",
    "#     acc_tfts.append(acc_tft)\n",
    "    "
   ]
  },
  {
   "cell_type": "code",
   "execution_count": null,
   "id": "31cd462a-a8a0-425b-add1-5840c2f19f06",
   "metadata": {},
   "outputs": [],
   "source": [
    "# a_acc_ocs = np.array(acc_ocs)\n",
    "# a_acc_tfts = np.array(acc_tfts)\n",
    "\n",
    "# plt.hist(a_acc_ocs)\n",
    "# plt.hist(acc_tfts)\n",
    "\n",
    "# plt.hist(a_acc_ocs - a_acc_tfts)\n"
   ]
  },
  {
   "cell_type": "code",
   "execution_count": 128,
   "id": "d5c23922-635d-421b-ab1e-af0a5e7ca419",
   "metadata": {},
   "outputs": [
    {
     "data": {
      "application/vnd.jupyter.widget-view+json": {
       "model_id": "5c1ff275f21445138009237788b4872b",
       "version_major": 2,
       "version_minor": 0
      },
      "text/plain": [
       "  0%|          | 0/1000 [00:00<?, ?it/s]"
      ]
     },
     "metadata": {},
     "output_type": "display_data"
    }
   ],
   "source": [
    "rng = np.random.default_rng(0)\n",
    "\n",
    "N_sims = 1000 \n",
    "acc_ocs = []\n",
    "acc_tfts = []\n",
    "for k in trange(N_sims):\n",
    "\n",
    "    N_samps = df_include.shape[0]\n",
    "    df_resamp = df_include.sample(N_samps, replace=True).copy()\n",
    "    df_resamp.pid = np.arange(N_samps)\n",
    "    df_resamp\n",
    "\n",
    "    df_out_oc, acc_oc = three_class_lda_cv(df_resamp, feats, 'type', show=False)\n",
    "    df_out_tft, acc_tft = three_class_lda_cv(df_resamp, tft_feats, 'type', show=False)\n",
    "\n",
    "    acc_ocs.append(acc_oc)\n",
    "    acc_tfts.append(acc_tft)\n"
   ]
  },
  {
   "cell_type": "code",
   "execution_count": 131,
   "id": "fd988ee8-c594-4663-a483-e6f48dba6864",
   "metadata": {},
   "outputs": [
    {
     "data": {
      "text/plain": [
       "(array([  3.,  19.,  42., 181., 251., 257., 187.,  43.,  16.,   1.]),\n",
       " array([-0.1125, -0.055 ,  0.0025,  0.06  ,  0.1175,  0.175 ,  0.2325,\n",
       "         0.29  ,  0.3475,  0.405 ,  0.4625]),\n",
       " <BarContainer object of 10 artists>)"
      ]
     },
     "execution_count": 131,
     "metadata": {},
     "output_type": "execute_result"
    },
    {
     "data": {
      "image/png": "[encoded data removed]",
      "text/plain": [
       "<Figure size 460.8x345.6 with 1 Axes>"
      ]
     },
     "metadata": {},
     "output_type": "display_data"
    }
   ],
   "source": [
    "a_acc_ocs = np.array(acc_ocs)\n",
    "a_acc_tfts = np.array(acc_tfts)\n",
    "\n",
    "plt.hist(a_acc_ocs)\n",
    "plt.hist(acc_tfts)\n",
    "\n",
    "plt.hist(a_acc_ocs - a_acc_tfts)\n"
   ]
  },
  {
   "cell_type": "code",
   "execution_count": null,
   "id": "86e87e42-d18e-4fd0-8dc0-f9020924791d",
   "metadata": {},
   "outputs": [],
   "source": [
    "from sklearn import linear_model\n",
    "from sklearn.metrics import \n",
    "\n"
   ]
  }
 ],
 "metadata": {
  "kernelspec": {
   "display_name": "Python 3 (ipykernel)",
   "language": "python",
   "name": "python3"
  },
  "language_info": {
   "codemirror_mode": {
    "name": "ipython",
    "version": 3
   },
   "file_extension": ".py",
   "mimetype": "text/x-python",
   "name": "python",
   "nbconvert_exporter": "python",
   "pygments_lexer": "ipython3",
   "version": "3.10.8"
  }
 },
 "nbformat": 4,
 "nbformat_minor": 5
}
