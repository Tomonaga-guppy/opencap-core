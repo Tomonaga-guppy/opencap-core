{
 "cells": [
  {
   "cell_type": "code",
   "execution_count": 11,
   "id": "24a9c2e0-d812-45f7-948c-c9c7c8b3fc62",
   "metadata": {},
   "outputs": [],
   "source": [
    "import os\n",
    "from pathlib import Path\n",
    "\n",
    "datadir = Path('./datadir')\n",
    "\n",
    "for fpath in datadir.glob('opencap_data/*/OpenSimData/Model/LaiArnoldModified2017_poly_withArms_weldHand_scaled.osim'):\n",
    "    new_fpath = fpath.parent / 'LaiUhlrich2022_scaled.osim'\n",
    "    os.rename(fpath, new_fpath)\n"
   ]
  },
  {
   "cell_type": "code",
   "execution_count": 16,
   "id": "67f41fe5-1f96-4e84-b682-32a13514fd1d",
   "metadata": {},
   "outputs": [],
   "source": [
    "\n"
   ]
  }
 ],
 "metadata": {
  "kernelspec": {
   "display_name": "Python 3 (ipykernel)",
   "language": "python",
   "name": "python3"
  },
  "language_info": {
   "codemirror_mode": {
    "name": "ipython",
    "version": 3
   },
   "file_extension": ".py",
   "mimetype": "text/x-python",
   "name": "python",
   "nbconvert_exporter": "python",
   "pygments_lexer": "ipython3",
   "version": "3.9.16"
  }
 },
 "nbformat": 4,
 "nbformat_minor": 5
}
