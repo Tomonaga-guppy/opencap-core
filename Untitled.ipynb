{
 "cells": [
  {
   "cell_type": "code",
   "execution_count": 40,
   "id": "1f83c524-f063-46b9-b3f9-ee4122615c36",
   "metadata": {},
   "outputs": [
    {
     "name": "stdout",
     "output_type": "stream",
     "text": [
      "reprocessing session 560e13c9-dba1-470b-97c2-59f50d13a739\n",
      "session: 560e13c9-dba1-470b-97c2-59f50d13a739 reprocessing 10MWT\n"
     ]
    }
   ],
   "source": [
    "from reprocessDataServer import reprocessData\n",
    "\n",
    "sessions = [\n",
    "    '560e13c9-dba1-470b-97c2-59f50d13a739'\n",
    "]\n",
    "\n",
    "\t\n",
    "\n",
    "# Parameters:\n",
    "#   reprocessCalibration = True if you want to reprocess the calibration trial (this ignores justNeutral and justDynamic)\n",
    "#   justNeutral = True is you want to reprocess the neutral trial only (and the calibration trial if reprocessCalibration is True)\n",
    "#   justDynamic = True if you want to reprocess the dynamic trial(s) only (and the calibration trial if reprocessCalibration is True)\n",
    "#   justDynamicErrors = True if you want to reprocess the dynamic trial(s) with errors only (and the calibration trial if reprocessCalibration is True)\n",
    "#   onlySpecifiedTrials = [] if you want to reprocess all dynamic trial(s) (all dynamic trial(s) with errors), or a list of trial names to reprocess\n",
    "#   status_to_set = 'reprocess' or 'stopped'. Trials with status 'reprocess' will be processed after trials with status 'stopped'.\n",
    "#       Please set to 'reprocess' if you want to reprocess a lot of trials, otherwise this might hinder data processing of other OpenCap users.\n",
    "#   waitToFinish = True if you want the function to wait until all dynamic trials are reprocessed\n",
    "for session in sessions:\n",
    "    reprocessData(\n",
    "        session, reprocessCalibration=False, justNeutral=False, justDynamic=True,\n",
    "        justDynamicErrors=False, onlySpecifiedTrials=['10MWT'], status_to_set='stopped',\n",
    "        waitToFinish=False)\n"
   ]
  }
 ],
 "metadata": {
  "kernelspec": {
   "display_name": "Python 3 (ipykernel)",
   "language": "python",
   "name": "python3"
  },
  "language_info": {
   "codemirror_mode": {
    "name": "ipython",
    "version": 3
   },
   "file_extension": ".py",
   "mimetype": "text/x-python",
   "name": "python",
   "nbconvert_exporter": "python",
   "pygments_lexer": "ipython3",
   "version": "3.11.4"
  }
 },
 "nbformat": 4,
 "nbformat_minor": 5
}
