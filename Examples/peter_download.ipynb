{
 "cells": [
  {
   "cell_type": "code",
   "execution_count": 1,
   "id": "e7e9833e-4911-4cd6-bd09-bc87e22e403b",
   "metadata": {},
   "outputs": [],
   "source": [
    "import sys, os\n",
    "sys.path.append(os.path.abspath('./..'))\n",
    "import utils\n",
    "\n",
    "from pathlib import Path\n",
    "\n",
    "import numpy as np\n",
    "import pandas as pd\n",
    "from tqdm.auto import tqdm\n"
   ]
  },
  {
   "cell_type": "code",
   "execution_count": 2,
   "id": "80f2e2f8-9e38-4f83-8acc-5c84b3822382",
   "metadata": {},
   "outputs": [],
   "source": [
    "gdrive = Path('/Users/psr/Library/CloudStorage/GoogleDrive-paru@stanford.edu')\n",
    "# datadir = gdrive / 'My Drive/NMBL Lab/OpenCap for NMD biomarkers/data'\n",
    "datadir = gdrive / 'Shared drives/OpencapNMD/Data'\n",
    "\n",
    "df_session = pd.read_excel(datadir / 'session_info.xlsx', )\n",
    "df_trial = pd.read_excel(datadir / 'trial_info.xlsx')\n",
    "df_part = pd.read_excel(datadir / 'participant_info.xlsx')\n"
   ]
  },
  {
   "cell_type": "code",
   "execution_count": 5,
   "id": "ecce076b-ff0e-41e7-93ab-6390e30f99a1",
   "metadata": {},
   "outputs": [
    {
     "data": {
      "application/vnd.jupyter.widget-view+json": {
       "model_id": "114a8ceb4dd546669fe97ff743db6c66",
       "version_major": 2,
       "version_minor": 0
      },
      "text/plain": [
       "  0%|          | 0/310 [00:00<?, ?it/s]"
      ]
     },
     "metadata": {},
     "output_type": "display_data"
    },
    {
     "name": "stdout",
     "output_type": "stream",
     "text": [
      "/Users/psr/Library/CloudStorage/GoogleDrive-paru@stanford.edu/Shared drives/OpencapNMD/Data/opencap_data/4174f23a-0821-4a23-9971-4dd94ca05c21\n"
     ]
    },
    {
     "ename": "ValueError",
     "evalue": "'session_metadata' is not in list",
     "output_type": "error",
     "traceback": [
      "\u001b[0;31m---------------------------------------------------------------------------\u001b[0m",
      "\u001b[0;31mValueError\u001b[0m                                Traceback (most recent call last)",
      "Cell \u001b[0;32mIn[5], line 17\u001b[0m\n\u001b[1;32m     15\u001b[0m \u001b[38;5;28;01mexcept\u001b[39;00m \u001b[38;5;167;01mException\u001b[39;00m \u001b[38;5;28;01mas\u001b[39;00m e:\n\u001b[1;32m     16\u001b[0m     \u001b[38;5;28mprint\u001b[39m(sid_dir)\n\u001b[0;32m---> 17\u001b[0m     \u001b[38;5;28;01mraise\u001b[39;00m e\n",
      "Cell \u001b[0;32mIn[5], line 10\u001b[0m\n\u001b[1;32m      8\u001b[0m \u001b[38;5;66;03m# print(sid_dir)\u001b[39;00m\n\u001b[1;32m      9\u001b[0m \u001b[38;5;28;01mtry\u001b[39;00m:\n\u001b[0;32m---> 10\u001b[0m     \u001b[43mutils\u001b[49m\u001b[38;5;241;43m.\u001b[39;49m\u001b[43mdownloadSomeStuff\u001b[49m\u001b[43m(\u001b[49m\u001b[43msid\u001b[49m\u001b[43m,\u001b[49m\n\u001b[1;32m     11\u001b[0m \u001b[43m                            \u001b[49m\u001b[43mjustDownload\u001b[49m\u001b[38;5;241;43m=\u001b[39;49m\u001b[38;5;28;43;01mTrue\u001b[39;49;00m\u001b[43m,\u001b[49m\n\u001b[1;32m     12\u001b[0m \u001b[43m                            \u001b[49m\u001b[43misDocker\u001b[49m\u001b[38;5;241;43m=\u001b[39;49m\u001b[38;5;28;43;01mFalse\u001b[39;49;00m\u001b[43m,\u001b[49m\n\u001b[1;32m     13\u001b[0m \u001b[43m                            \u001b[49m\u001b[43mdata_dir\u001b[49m\u001b[38;5;241;43m=\u001b[39;49m\u001b[43mdata_dir\u001b[49m\u001b[43m,\u001b[49m\n\u001b[1;32m     14\u001b[0m \u001b[43m                            \u001b[49m\u001b[43mincludeVideos\u001b[49m\u001b[38;5;241;43m=\u001b[39;49m\u001b[38;5;28;43;01mFalse\u001b[39;49;00m\u001b[43m)\u001b[49m\n\u001b[1;32m     15\u001b[0m \u001b[38;5;28;01mexcept\u001b[39;00m \u001b[38;5;167;01mException\u001b[39;00m \u001b[38;5;28;01mas\u001b[39;00m e:\n\u001b[1;32m     16\u001b[0m     \u001b[38;5;28mprint\u001b[39m(sid_dir)\n",
      "File \u001b[0;32m~/Documents/Stanford/Research/Delp/OpenCap/opencap-core/utils.py:866\u001b[0m, in \u001b[0;36mdownloadSomeStuff\u001b[0;34m(session_id, deleteFolderWhenZipped, isDocker, writeToDjango, justDownload, data_dir, useSubjectNameFolder, includeVideos)\u001b[0m\n\u001b[1;32m    863\u001b[0m     getCalibration(session_id,session_path)\n\u001b[1;32m    865\u001b[0m \u001b[38;5;66;03m# Neutral\u001b[39;00m\n\u001b[0;32m--> 866\u001b[0m \u001b[43mgetModelAndMetadata\u001b[49m\u001b[43m(\u001b[49m\u001b[43msession_id\u001b[49m\u001b[43m,\u001b[49m\u001b[43msession_path\u001b[49m\u001b[43m)\u001b[49m\n\u001b[1;32m    867\u001b[0m getMotionData(neutral_id,session_path)\n\u001b[1;32m    868\u001b[0m \u001b[38;5;28;01mif\u001b[39;00m includeVideos:\n",
      "File \u001b[0;32m~/Documents/Stanford/Research/Delp/OpenCap/opencap-core/utils.py:777\u001b[0m, in \u001b[0;36mgetModelAndMetadata\u001b[0;34m(session_id, session_path, simplePath)\u001b[0m\n\u001b[1;32m    775\u001b[0m metadataPath \u001b[38;5;241m=\u001b[39m os\u001b[38;5;241m.\u001b[39mpath\u001b[38;5;241m.\u001b[39mjoin(session_path,\u001b[38;5;124m'\u001b[39m\u001b[38;5;124msessionMetadata.yaml\u001b[39m\u001b[38;5;124m'\u001b[39m)\n\u001b[1;32m    776\u001b[0m \u001b[38;5;28;01mif\u001b[39;00m \u001b[38;5;129;01mnot\u001b[39;00m os\u001b[38;5;241m.\u001b[39mpath\u001b[38;5;241m.\u001b[39mexists(metadataPath) :\n\u001b[0;32m--> 777\u001b[0m     metadataURL \u001b[38;5;241m=\u001b[39m trial[\u001b[38;5;124m'\u001b[39m\u001b[38;5;124mresults\u001b[39m\u001b[38;5;124m'\u001b[39m][\u001b[43mresultTags\u001b[49m\u001b[38;5;241;43m.\u001b[39;49m\u001b[43mindex\u001b[49m\u001b[43m(\u001b[49m\u001b[38;5;124;43m'\u001b[39;49m\u001b[38;5;124;43msession_metadata\u001b[39;49m\u001b[38;5;124;43m'\u001b[39;49m\u001b[43m)\u001b[49m][\u001b[38;5;124m'\u001b[39m\u001b[38;5;124mmedia\u001b[39m\u001b[38;5;124m'\u001b[39m]\n\u001b[1;32m    778\u001b[0m     download_file(metadataURL, metadataPath)\n\u001b[1;32m    780\u001b[0m \u001b[38;5;66;03m# get model if does not exist\u001b[39;00m\n",
      "\u001b[0;31mValueError\u001b[0m: 'session_metadata' is not in list"
     ]
    }
   ],
   "source": [
    "for sid in tqdm(df_session.sid.unique()):\n",
    "    data_dir = datadir / 'opencap_data'\n",
    "    sid_dir = data_dir / sid\n",
    "    if sid_dir.exists():\n",
    "        continue\n",
    "    # print(sid_dir)\n",
    "    try:\n",
    "        utils.downloadSomeStuff(sid,\n",
    "                                justDownload=True,\n",
    "                                isDocker=False,\n",
    "                                data_dir=data_dir,\n",
    "                                includeVideos=False)\n",
    "    except Exception as e:\n",
    "        print(sid_dir)\n",
    "        raise e\n"
   ]
  },
  {
   "cell_type": "code",
   "execution_count": null,
   "id": "27b61004-ed53-4080-a92d-331ac8407764",
   "metadata": {},
   "outputs": [],
   "source": [
    "df_part\n"
   ]
  }
 ],
 "metadata": {
  "kernelspec": {
   "display_name": "Python 3 (ipykernel)",
   "language": "python",
   "name": "python3"
  },
  "language_info": {
   "codemirror_mode": {
    "name": "ipython",
    "version": 3
   },
   "file_extension": ".py",
   "mimetype": "text/x-python",
   "name": "python",
   "nbconvert_exporter": "python",
   "pygments_lexer": "ipython3",
   "version": "3.9.16"
  }
 },
 "nbformat": 4,
 "nbformat_minor": 5
}
