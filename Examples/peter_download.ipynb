{
 "cells": [
  {
   "cell_type": "code",
   "execution_count": 1,
   "id": "e7e9833e-4911-4cd6-bd09-bc87e22e403b",
   "metadata": {},
   "outputs": [],
   "source": [
    "import sys, os\n",
    "sys.path.append(os.path.abspath('./..'))\n",
    "import utils\n",
    "\n",
    "from pathlib import Path\n",
    "\n",
    "import numpy as np\n",
    "import pandas as pd\n",
    "from tqdm.auto import tqdm\n"
   ]
  },
  {
   "cell_type": "code",
   "execution_count": 2,
   "id": "80f2e2f8-9e38-4f83-8acc-5c84b3822382",
   "metadata": {},
   "outputs": [
    {
     "name": "stderr",
     "output_type": "stream",
     "text": [
      "/Users/psr/opt/anaconda3/envs/opencap-nmd/lib/python3.9/site-packages/openpyxl/worksheet/_read_only.py:81: UserWarning: Unknown extension is not supported and will be removed\n",
      "  for idx, row in parser.parse():\n"
     ]
    }
   ],
   "source": [
    "gdrive = Path('/Users/psr/Library/CloudStorage/GoogleDrive-paru@stanford.edu')\n",
    "# datadir = gdrive / 'My Drive/NMBL Lab/OpenCap for NMD biomarkers/data'\n",
    "datadir = gdrive / 'Shared drives/OpencapNMD/Data'\n",
    "\n",
    "df_session = pd.read_excel(datadir / 'session_info.xlsx', )\n",
    "df_trial = pd.read_excel(datadir / 'trial_info.xlsx')\n",
    "df_part = pd.read_excel(datadir / 'participant_info.xlsx')\n"
   ]
  },
  {
   "cell_type": "code",
   "execution_count": 8,
   "id": "7db26e5d-8760-4683-b3b9-2312e1c17c2f",
   "metadata": {},
   "outputs": [],
   "source": [
    "sids = df_trial[~df_trial.trial_clean.isna()].sid.unique()\n"
   ]
  },
  {
   "cell_type": "code",
   "execution_count": 3,
   "id": "ecce076b-ff0e-41e7-93ab-6390e30f99a1",
   "metadata": {},
   "outputs": [
    {
     "data": {
      "application/vnd.jupyter.widget-view+json": {
       "model_id": "f2874ce9e3e34025af4b054d72488cc3",
       "version_major": 2,
       "version_minor": 0
      },
      "text/plain": [
       "  0%|          | 0/310 [00:00<?, ?it/s]"
      ]
     },
     "metadata": {},
     "output_type": "display_data"
    }
   ],
   "source": [
    "for sid in tqdm(df_session.sid.unique()):\n",
    "    data_dir = datadir / 'opencap_data'\n",
    "    sid_dir = data_dir / sid\n",
    "    if sid_dir.exists():\n",
    "        continue\n",
    "    # print(sid_dir)\n",
    "    try:\n",
    "        utils.downloadSomeStuff(sid,\n",
    "                                justDownload=True,\n",
    "                                isDocker=False,\n",
    "                                data_dir=data_dir,\n",
    "                                includeVideos=False)\n",
    "    except Exception as e:\n",
    "        print(sid_dir)\n",
    "        raise(e)\n"
   ]
  },
  {
   "cell_type": "code",
   "execution_count": null,
   "id": "27b61004-ed53-4080-a92d-331ac8407764",
   "metadata": {},
   "outputs": [],
   "source": [
    "df_part\n"
   ]
  }
 ],
 "metadata": {
  "kernelspec": {
   "display_name": "Python 3 (ipykernel)",
   "language": "python",
   "name": "python3"
  },
  "language_info": {
   "codemirror_mode": {
    "name": "ipython",
    "version": 3
   },
   "file_extension": ".py",
   "mimetype": "text/x-python",
   "name": "python",
   "nbconvert_exporter": "python",
   "pygments_lexer": "ipython3",
   "version": "3.9.16"
  }
 },
 "nbformat": 4,
 "nbformat_minor": 5
}
