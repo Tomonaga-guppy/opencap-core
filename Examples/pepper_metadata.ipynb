{
 "cells": [
  {
   "cell_type": "code",
   "execution_count": 1,
   "id": "e7e9833e-4911-4cd6-bd09-bc87e22e403b",
   "metadata": {},
   "outputs": [],
   "source": [
    "import sys, os\n",
    "from pathlib import Path\n",
    "sys.path.append(os.path.abspath('./..'))\n",
    "import utils\n",
    "\n",
    "import numpy as np\n",
    "import pandas as pd\n",
    "from tqdm.auto import tqdm\n",
    "\n",
    "gdrive = Path('/Users/psr/Library/CloudStorage/GoogleDrive-paru@stanford.edu')\n",
    "datadir = gdrive / 'My Drive/NMBL Lab/opencap_nmd/data/2023-05_dhd'\n",
    "# datadir = gdrive / 'Shared drives/OpencapNMD/Data'\n",
    "\n",
    "# df_session_now = pd.read_excel(datadir / 'session_info.xlsx')\n",
    "# df_trial_now = pd.read_excel(datadir / 'trial_info.xlsx')\n",
    "# df_part_now = pd.read_excel(datadir / 'participant_info.xlsx')\n",
    "\n",
    "# df_part_now.date = pd.to_datetime(df_part_now.date)\n",
    "# df_part_now.date = df_part_now.date.dt.strftime('%Y-%m-%d')\n"
   ]
  },
  {
   "cell_type": "code",
   "execution_count": 2,
   "id": "c74285ba-e1eb-486b-aebd-66f469977ffb",
   "metadata": {},
   "outputs": [],
   "source": [
    "sessions = utils.getUserSessions()\n"
   ]
  },
  {
   "cell_type": "code",
   "execution_count": 5,
   "id": "585b77e5-c059-4939-ab90-f8dc1449ee08",
   "metadata": {},
   "outputs": [],
   "source": [
    "part_labels = ['type', 'clinician', 'weight', 'height', 'age', 'sex',\n",
    "               'gender', 'data_sharing', 'orthotics', 'clock_a', 'brooke',\n",
    "               'time_10mwt', 'time_10mwrt', 'time_tug_line', 'time_tug_cone',\n",
    "               'clock_b', 'time_5xsts', 'clock_c', 'time_stairs_up', 'notes_p']\n"
   ]
  },
  {
   "cell_type": "code",
   "execution_count": 29,
   "id": "065a69ca-681b-4063-b552-9e4c7b9f6a5c",
   "metadata": {},
   "outputs": [
    {
     "data": {
      "application/vnd.jupyter.widget-view+json": {
       "model_id": "",
       "version_major": 2,
       "version_minor": 0
      },
      "text/plain": [
       "  0%|          | 0/166 [00:00<?, ?it/s]"
      ]
     },
     "metadata": {},
     "output_type": "display_data"
    }
   ],
   "source": [
    "# FOR CLINIC DATA\n",
    "\n",
    "meta = [s for s in sessions]\n",
    "session_data = []\n",
    "part_data = []\n",
    "trial_data = []\n",
    "for s in tqdm(meta, leave=False):\n",
    "    sid = s['id']\n",
    "    pid = s['name']\n",
    "    session_data.append(dict(\n",
    "        sid=sid,\n",
    "        pid=pid,\n",
    "        created_at=s['created_at'],\n",
    "        server=s['server'],\n",
    "        fps=s['meta']['settings']['framerate'] if 'settings' in s['meta'].keys() else np.nan,\n",
    "        notes_s=np.nan,\n",
    "    ))\n",
    "    for t in s['trials']:\n",
    "        trial = t['name']\n",
    "        if trial in ('neutral', 'calibration'):\n",
    "            continue\n",
    "        trial_data.append(dict(\n",
    "            sid=sid,\n",
    "            pid=pid,\n",
    "            created_at=t['created_at'],\n",
    "            trial=trial,\n",
    "            trial_clean=np.nan,\n",
    "            notes_t=np.nan,\n",
    "        ))\n",
    "    tz = 'America/New_York' if pid.startswith('mdf_') else 'America/Los_Angeles'\n",
    "    part = dict(\n",
    "        pid=pid,\n",
    "        date=pd.to_datetime(t['created_at']).tz_convert(tz).strftime('%Y-%m-%d')\n",
    "    )\n",
    "    part.update({pl:'' for pl in part_labels})\n",
    "    part_data.append(part)\n",
    "        \n",
    "df_session = pd.DataFrame(session_data).sort_values('pid')\n",
    "df_part = pd.DataFrame(part_data).sort_values('pid').drop_duplicates()\n",
    "df_trial = pd.DataFrame(trial_data).sort_values(['pid', 'trial'])\n",
    "\n",
    "df_part.shape, df_session.shape, df_trial.shape\n",
    "\n",
    "\n",
    "df_part.to_excel('participant_info_clinic.xlsx')\n",
    "df_trial.to_excel('trial_info_clinic.xlsx')\n",
    "df_session.to_excel('session_info_clinic.xlsx')\n"
   ]
  },
  {
   "cell_type": "code",
   "execution_count": 26,
   "id": "d00a3ee7-53b2-425d-9004-83db73b63b7e",
   "metadata": {},
   "outputs": [
    {
     "data": {
      "text/plain": [
       "array(['3d17b3ee', '58385b9a', '6ec44398', '7e6bd5de', '9473a88c',\n",
       "       '9bda23b6', 'CONTROL005', 'CPET_001', 'DB-039', 'DB-139', 'DB-148',\n",
       "       'DB-157', 'DB-182', 'DB-183', 'DB-184', 'DB-185', 'DB-238',\n",
       "       'DB-245', 'DB-251', 'DB-251_stairs', 'DB-258', 'DB-267', 'DB-275',\n",
       "       'DB-287', 'DB-305', 'DB-310', 'DB-318', 'DB-333', 'DB-334',\n",
       "       'DB-361', 'DB-369', 'DB-493', 'DB157', 'DB180', 'DB207', 'DB237',\n",
       "       'DB238', 'DB262', 'DB302', 'DB305', 'DB310', 'DB359', 'DB_162',\n",
       "       'DB_259', 'DB_263', 'DIGBI160', 'DIGBI_01DEC2022',\n",
       "       'DIGBI_160_stairs', 'DM1_001', 'DM1_002', 'DM1_003', 'DM1_004',\n",
       "       'DM1_005', 'DM1_007', 'DM1_008', 'DM1_009', 'DM1_010', 'DM1_011',\n",
       "       'DM1_013', 'DM1_014', 'DM1_015', 'DM1_016', 'DM1_017', 'DM1_018',\n",
       "       'DM1_019', 'DM1_020', 'DM1_021', 'DM1_022', 'DM1_023', 'DM1_024',\n",
       "       'DM1_026', 'DM1_027', 'DM1_028', 'DM1_25', 'DM2_001', 'DM2_002',\n",
       "       'DMD_002', 'FSHD_01', 'FSHD_02', 'NoID_002_22JAN2022',\n",
       "       'NoID_002_22JAN23', 'NoID_005_22JAN23', 'NoID_006_22JAN23',\n",
       "       'NoID_007', 'NoirinTest', 'TEST', 'Test06DEC2022', 'a31757fd',\n",
       "       'cm', 'constance test', 'd11ecd64', 'd32838d0', 'db285',\n",
       "       'fdc -001', 'fdc-002', 'noDIGBI_ID_6DEC2022', 'noID_001_22JAN23',\n",
       "       'noID_004_22JAN23', 'noID_008_22JAN2023',\n",
       "       'no_DIGBIid_6DEC2022_stairs', 'noirintest', 'tesmdf', 'test',\n",
       "       'test-constance', 'test01DEC2022', 'test1', 'test123',\n",
       "       'test27apr2023', 'test321mdf', 'test500', 'testMDF', 'test_cammy',\n",
       "       'testmdf', 'testnoirin', 'training_test'], dtype=object)"
      ]
     },
     "execution_count": 26,
     "metadata": {},
     "output_type": "execute_result"
    }
   ],
   "source": [
    "df_part.pid.unique()\n"
   ]
  },
  {
   "cell_type": "code",
   "execution_count": 9,
   "id": "07d8d043-6f41-4a64-a0a9-857f6de21d92",
   "metadata": {},
   "outputs": [
    {
     "data": {
      "application/vnd.jupyter.widget-view+json": {
       "model_id": "ae6f6bfbca2c47c9ab69c39d506d5e46",
       "version_major": 2,
       "version_minor": 0
      },
      "text/plain": [
       "  0%|          | 0/164 [00:00<?, ?it/s]"
      ]
     },
     "metadata": {},
     "output_type": "display_data"
    },
    {
     "ename": "KeyError",
     "evalue": "'settings'",
     "output_type": "error",
     "traceback": [
      "\u001b[0;31m---------------------------------------------------------------------------\u001b[0m",
      "\u001b[0;31mKeyError\u001b[0m                                  Traceback (most recent call last)",
      "Cell \u001b[0;32mIn[9], line 25\u001b[0m\n\u001b[1;32m     17\u001b[0m pid \u001b[38;5;241m=\u001b[39m get_pid(s)\n\u001b[1;32m     18\u001b[0m \u001b[38;5;66;03m# if int(pid[1:]) < 10:\u001b[39;00m\n\u001b[1;32m     19\u001b[0m \u001b[38;5;66;03m#     continue\u001b[39;00m\n\u001b[1;32m     20\u001b[0m session_data\u001b[38;5;241m.\u001b[39mappend(\u001b[38;5;28mdict\u001b[39m(\n\u001b[1;32m     21\u001b[0m     sid\u001b[38;5;241m=\u001b[39msid,\n\u001b[1;32m     22\u001b[0m     pid\u001b[38;5;241m=\u001b[39mpid,\n\u001b[1;32m     23\u001b[0m     created_at\u001b[38;5;241m=\u001b[39ms[\u001b[38;5;124m'\u001b[39m\u001b[38;5;124mcreated_at\u001b[39m\u001b[38;5;124m'\u001b[39m],\n\u001b[1;32m     24\u001b[0m     server\u001b[38;5;241m=\u001b[39ms[\u001b[38;5;124m'\u001b[39m\u001b[38;5;124mserver\u001b[39m\u001b[38;5;124m'\u001b[39m],\n\u001b[0;32m---> 25\u001b[0m     fps\u001b[38;5;241m=\u001b[39m\u001b[43ms\u001b[49m\u001b[43m[\u001b[49m\u001b[38;5;124;43m'\u001b[39;49m\u001b[38;5;124;43mmeta\u001b[39;49m\u001b[38;5;124;43m'\u001b[39;49m\u001b[43m]\u001b[49m\u001b[43m[\u001b[49m\u001b[38;5;124;43m'\u001b[39;49m\u001b[38;5;124;43msettings\u001b[39;49m\u001b[38;5;124;43m'\u001b[39;49m\u001b[43m]\u001b[49m[\u001b[38;5;124m'\u001b[39m\u001b[38;5;124mframerate\u001b[39m\u001b[38;5;124m'\u001b[39m],\n\u001b[1;32m     26\u001b[0m     notes_s\u001b[38;5;241m=\u001b[39mnp\u001b[38;5;241m.\u001b[39mnan,\n\u001b[1;32m     27\u001b[0m ))\n\u001b[1;32m     28\u001b[0m \u001b[38;5;28;01mfor\u001b[39;00m t \u001b[38;5;129;01min\u001b[39;00m s[\u001b[38;5;124m'\u001b[39m\u001b[38;5;124mtrials\u001b[39m\u001b[38;5;124m'\u001b[39m]:\n\u001b[1;32m     29\u001b[0m     trial \u001b[38;5;241m=\u001b[39m t[\u001b[38;5;124m'\u001b[39m\u001b[38;5;124mname\u001b[39m\u001b[38;5;124m'\u001b[39m]\n",
      "\u001b[0;31mKeyError\u001b[0m: 'settings'"
     ]
    }
   ],
   "source": [
    "def get_pid(s):\n",
    "    name = s['name'].lower()\n",
    "    if len(name) == 4 and name[1:].isnumeric() and name[0]=='p':\n",
    "        if int(name[1:]) < 10:\n",
    "            return ''\n",
    "        return name\n",
    "    if name[:4] == 'mdf_' and name[4:7].isnumeric():\n",
    "        return name\n",
    "    return name\n",
    "\n",
    "meta = [s for s in sessions if get_pid(s)]\n",
    "session_data = []\n",
    "part_data = []\n",
    "trial_data = []\n",
    "for s in tqdm(meta, leave=False):\n",
    "    sid = s['id']\n",
    "    pid = get_pid(s)\n",
    "    # if int(pid[1:]) < 10:\n",
    "    #     continue\n",
    "    session_data.append(dict(\n",
    "        sid=sid,\n",
    "        pid=pid,\n",
    "        created_at=s['created_at'],\n",
    "        server=s['server'],\n",
    "        fps=s['meta']['settings']['framerate'],\n",
    "        notes_s=np.nan,\n",
    "    ))\n",
    "    for t in s['trials']:\n",
    "        trial = t['name']\n",
    "        if trial in ('neutral', 'calibration'):\n",
    "            continue\n",
    "        trial_data.append(dict(\n",
    "            sid=sid,\n",
    "            pid=pid,\n",
    "            created_at=t['created_at'],\n",
    "            trial=trial,\n",
    "            trial_clean=np.nan,\n",
    "            notes_t=np.nan,\n",
    "        ))\n",
    "    tz = 'America/Los_Angeles' if pid[0] == 'p' else 'America/New_York'\n",
    "    part = dict(\n",
    "        pid=pid,\n",
    "        date=pd.to_datetime(t['created_at']).tz_convert(tz).strftime('%Y-%m-%d')\n",
    "    )\n",
    "    part.update({pl:'' for pl in part_labels})\n",
    "    part_data.append(part)\n",
    "        \n",
    "df_session = pd.DataFrame(session_data).sort_values('pid')\n",
    "df_part = pd.DataFrame(part_data).sort_values('pid').drop_duplicates()\n",
    "df_trial = pd.DataFrame(trial_data).sort_values(['pid', 'trial'])\n",
    "\n",
    "df_part.shape, df_session.shape, df_trial.shape\n"
   ]
  },
  {
   "cell_type": "code",
   "execution_count": null,
   "id": "a7b03838-fce7-4ab6-8d33-6fb8e52d463c",
   "metadata": {},
   "outputs": [],
   "source": [
    "df_part.pid.unique()"
   ]
  },
  {
   "cell_type": "code",
   "execution_count": null,
   "id": "32a0459d-b03c-4559-8d5a-241974f7fff9",
   "metadata": {},
   "outputs": [],
   "source": [
    "df_part_new = df_part_now.set_index(['pid', 'date']).combine_first(df_part.set_index(['pid', 'date']))\n",
    "df_part_new.reset_index(inplace=True)\n",
    "df_part_new.sort_values(['date', 'pid'], inplace=True)\n"
   ]
  },
  {
   "cell_type": "code",
   "execution_count": null,
   "id": "ac74ae4a-7198-458e-813d-66e6569f2b0e",
   "metadata": {},
   "outputs": [],
   "source": [
    "df_session_new = df_session_now.set_index('sid').combine_first(df_session.set_index('sid'))\n",
    "cols = ['pid', 'created_at']\n",
    "cols += [x for x in df_session_new.columns if x not in cols]\n",
    "cols = [x for x in cols if x != 'notes_s'] + ['notes_s']\n",
    "df_session_new = df_session_new[cols]\n",
    "df_session_new.sort_values('pid', inplace=True)\n",
    "df_session_new.reset_index(inplace=True)\n"
   ]
  },
  {
   "cell_type": "code",
   "execution_count": null,
   "id": "7a86bd5f-cd4f-45a3-9f08-3b901762ba93",
   "metadata": {},
   "outputs": [],
   "source": [
    "df_trial_new = df_trial_now.set_index(['sid', 'trial']).combine_first(df_trial.set_index(['sid', 'trial']))\n",
    "df_trial_new.reset_index(inplace=True)\n",
    "df_trial_new.sort_values(['pid', 'created_at'], inplace=True)\n",
    "cols = ['pid', 'sid', 'created_at', 'trial', 'trial_clean']\n",
    "cols += [x for x in df_trial_new.columns if x not in cols]\n",
    "cols = [x for x in cols if x != 'notes_t'] + ['notes_t']\n",
    "df_trial_new = df_trial_new[cols]\n",
    "# df_trial_new\n"
   ]
  },
  {
   "cell_type": "code",
   "execution_count": null,
   "id": "c45c4ae9-0eca-49fb-8c7b-addded5abaf8",
   "metadata": {},
   "outputs": [],
   "source": [
    "df_part_new\n"
   ]
  },
  {
   "cell_type": "code",
   "execution_count": null,
   "id": "5bb7c531-baef-48da-bd7e-47da1dd6bbb5",
   "metadata": {},
   "outputs": [],
   "source": [
    "df_part_new.to_excel(datadir / 'temp/participant_info.xlsx', index=False)\n",
    "df_session_new.to_excel(datadir / 'temp/session_info.xlsx', index=False)\n",
    "df_trial_new.to_excel(datadir / 'temp/trial_info.xlsx', index=False)\n"
   ]
  }
 ],
 "metadata": {
  "kernelspec": {
   "display_name": "Python 3 (ipykernel)",
   "language": "python",
   "name": "python3"
  },
  "language_info": {
   "codemirror_mode": {
    "name": "ipython",
    "version": 3
   },
   "file_extension": ".py",
   "mimetype": "text/x-python",
   "name": "python",
   "nbconvert_exporter": "python",
   "pygments_lexer": "ipython3",
   "version": "3.9.16"
  }
 },
 "nbformat": 4,
 "nbformat_minor": 5
}
