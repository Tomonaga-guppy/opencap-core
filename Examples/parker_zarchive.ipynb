{
 "cells": [
  {
   "cell_type": "code",
   "execution_count": 1,
   "id": "e7e9833e-4911-4cd6-bd09-bc87e22e403b",
   "metadata": {},
   "outputs": [],
   "source": [
    "import sys, os\n",
    "sys.path.append(os.path.abspath('./..'))\n",
    "import utils\n",
    "\n",
    "import numpy as np\n",
    "import pandas as pd\n"
   ]
  },
  {
   "cell_type": "code",
   "execution_count": 2,
   "id": "c74285ba-e1eb-486b-aebd-66f469977ffb",
   "metadata": {},
   "outputs": [],
   "source": [
    "sessions = utils.getUserSessions()\n"
   ]
  },
  {
   "cell_type": "code",
   "execution_count": 3,
   "id": "c6bf0687-589b-43bc-9d4e-6a50d478ec0c",
   "metadata": {},
   "outputs": [
    {
     "data": {
      "text/plain": [
       "['type',\n",
       " 'clinician',\n",
       " 'weight',\n",
       " 'height',\n",
       " 'age',\n",
       " 'sex',\n",
       " 'gender',\n",
       " 'data_sharing',\n",
       " 'orthotics',\n",
       " 'clock_a',\n",
       " 'brooke',\n",
       " 'time_10mwt',\n",
       " 'time_10mwrt',\n",
       " 'time_tug_line',\n",
       " 'time_tug_cone',\n",
       " 'clock_b',\n",
       " 'time_5xsts',\n",
       " 'clock_c',\n",
       " 'time_stairs_up',\n",
       " 'notes_p']"
      ]
     },
     "execution_count": 3,
     "metadata": {},
     "output_type": "execute_result"
    }
   ],
   "source": [
    "part_labels = '''\n",
    "type\tclinician\tweight\theight\tage\tsex\tgender\tdata_sharing\torthotics\tclock_a\tbrooke\ttime_10mwt\ttime_10mwrt\ttime_tug_line\ttime_tug_cone\tclock_b\ttime_5xsts\tclock_c\ttime_stairs_up\tnotes_p\n",
    "'''.split()\n",
    "part_labels\n"
   ]
  },
  {
   "cell_type": "code",
   "execution_count": 14,
   "id": "07d8d043-6f41-4a64-a0a9-857f6de21d92",
   "metadata": {},
   "outputs": [
    {
     "data": {
      "text/plain": [
       "((288, 3), (90, 21))"
      ]
     },
     "execution_count": 14,
     "metadata": {},
     "output_type": "execute_result"
    }
   ],
   "source": [
    "def get_pid(s):\n",
    "    name = s['name'].lower()\n",
    "    if len(name[1:]) == 3 and name[1:].isnumeric() and name[0]=='p':\n",
    "        return name\n",
    "    return ''\n",
    "\n",
    "meta = [s for s in sessions if get_pid(s)]\n",
    "session_data = []\n",
    "part_data = []\n",
    "trial_data = []\n",
    "for s in meta:\n",
    "    sid = s['id']\n",
    "    pid = get_pid(s)\n",
    "    session_data.append(dict(\n",
    "        sid=sid,\n",
    "        pid=pid,\n",
    "        notes_s='',\n",
    "    ))\n",
    "    part = dict(\n",
    "        pid=pid,\n",
    "    )\n",
    "    part.update({pl:'' for pl in part_labels})\n",
    "    part_data.append(part)\n",
    "    for t in s['trials']:\n",
    "        trial = t['name']\n",
    "        if trial == 'neutral':\n",
    "            continue\n",
    "        if trial == 'calibration':\n",
    "            continue\n",
    "        trial_data.append(dict(\n",
    "            sid=sid,\n",
    "            pid=pid,\n",
    "            trial=trial,\n",
    "            trial_clean='',\n",
    "            notes_t='',\n",
    "        ))\n",
    "        \n",
    "df_session = pd.DataFrame(session_data).sort_values('pid')\n",
    "df_part = pd.DataFrame(part_data).sort_values('pid').drop_duplicates()\n",
    "df_trial = pd.DataFrame(trial_data).sort_values(['pid', 'trial'])\n",
    "\n",
    "df_session.shape, df_part.shape"
   ]
  },
  {
   "cell_type": "code",
   "execution_count": null,
   "id": "8c5f6c68-14aa-4c7a-8d2f-609f3c592a9a",
   "metadata": {},
   "outputs": [],
   "source": []
  },
  {
   "cell_type": "code",
   "execution_count": 15,
   "id": "4bc41b57-dbb6-498e-94cc-83e1ebc83573",
   "metadata": {},
   "outputs": [],
   "source": [
    "# from pathlib import Path\n",
    "\n",
    "# gdrive = Path('/Users/psr/Library/CloudStorage/GoogleDrive-paru@stanford.edu')\n",
    "# datadir = gdrive / 'My Drive/NMBL Lab/OpenCap for NMD biomarkers/data'\n",
    "# dataset = '2023-05_dhd/temp'\n",
    "\n",
    "# df_session.to_excel(datadir / dataset / 'session_info.xlsx', index=False)\n",
    "# df_part.to_excel(datadir / dataset / 'participant_info.xlsx', index=False)\n",
    "# df_trial.to_excel(datadir / dataset / 'trial_info.xlsx', index=False)\n"
   ]
  }
 ],
 "metadata": {
  "kernelspec": {
   "display_name": "Python 3 (ipykernel)",
   "language": "python",
   "name": "python3"
  },
  "language_info": {
   "codemirror_mode": {
    "name": "ipython",
    "version": 3
   },
   "file_extension": ".py",
   "mimetype": "text/x-python",
   "name": "python",
   "nbconvert_exporter": "python",
   "pygments_lexer": "ipython3",
   "version": "3.11.4"
  }
 },
 "nbformat": 4,
 "nbformat_minor": 5
}
