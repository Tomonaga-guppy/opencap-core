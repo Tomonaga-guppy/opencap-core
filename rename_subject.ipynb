{
 "cells": [
  {
   "cell_type": "code",
   "execution_count": 2,
   "id": "23b782b0-83b4-47a0-93d7-02ed9b4af260",
   "metadata": {},
   "outputs": [
    {
     "name": "stdout",
     "output_type": "stream",
     "text": [
      "d7cb77d0-581a-4049-89b5-d6d01b159748 DHD008 = 12955\n"
     ]
    }
   ],
   "source": [
    "from utils import get_user_subjects, set_session_subject\n",
    "\n",
    "subject_metadata = get_user_subjects()['subjects']\n",
    "\n",
    "rename_map = {\n",
    "    '4c4e4591-2181-454b-9f0e-f400708c3ca6': 'DB-621}\n",
    "\n",
    "for sid, pid in rename_map.items():\n",
    "    matches = [s for s in subject_metadata if s['name'] == pid]\n",
    "    assert len(matches) == 1\n",
    "    subject_id = matches[0]['id']\n",
    "    print(sid, pid, '=', subject_id)\n",
    "\n",
    "    set_session_subject(sid, subject_id)\n"
   ]
  },
  {
   "cell_type": "code",
   "execution_count": 5,
   "id": "73c412c3-3272-47e7-ae8f-c82a678df2ea",
   "metadata": {},
   "outputs": [
    {
     "data": {
      "text/plain": [
       "['DB-039',\n",
       " 'DB-130',\n",
       " 'DB-139',\n",
       " 'DB-148',\n",
       " 'DB-157',\n",
       " 'DB-161',\n",
       " 'DB-165',\n",
       " 'DB-182',\n",
       " 'DB-183',\n",
       " 'DB-184',\n",
       " 'DB-184',\n",
       " 'DB-185',\n",
       " 'DB-185',\n",
       " 'DB-224',\n",
       " 'DB-240',\n",
       " 'DB-245',\n",
       " 'DB-275',\n",
       " 'DB-287',\n",
       " 'DB-299',\n",
       " 'DB-308',\n",
       " 'DB-316',\n",
       " 'DB-318',\n",
       " 'DB-333',\n",
       " 'DB-334',\n",
       " 'DB-356',\n",
       " 'DB-361',\n",
       " 'DB-369',\n",
       " 'DB-492',\n",
       " 'DB-493',\n",
       " 'DB157',\n",
       " 'DB180',\n",
       " 'DB207',\n",
       " 'DB237',\n",
       " 'DB238',\n",
       " 'DB262',\n",
       " 'DB305',\n",
       " 'DB359',\n",
       " 'DHD--032',\n",
       " 'DHD-002',\n",
       " 'DHD-005',\n",
       " 'DHD-012',\n",
       " 'DHD-013',\n",
       " 'DHD-014',\n",
       " 'DHD-018',\n",
       " 'DHD-019',\n",
       " 'DHD-022',\n",
       " 'DHD-025',\n",
       " 'DHD-027',\n",
       " 'DHD-030',\n",
       " 'DHD-031',\n",
       " 'DHD-033',\n",
       " 'DHD-036',\n",
       " 'DHD-039',\n",
       " 'DHD-039',\n",
       " 'DHD-40',\n",
       " 'DHD001',\n",
       " 'DHD003',\n",
       " 'DHD004',\n",
       " 'DHD005',\n",
       " 'DHD006',\n",
       " 'DHD007',\n",
       " 'DHD008',\n",
       " 'DHD011',\n",
       " 'DHD021',\n",
       " 'DHD023',\n",
       " 'DHD024',\n",
       " 'DHD026',\n",
       " 'DHD028',\n",
       " 'DHD029',\n",
       " 'DHD034',\n",
       " 'DHD035',\n",
       " 'DHD037',\n",
       " 'DHD038',\n",
       " 'PPMD009',\n",
       " 'PPMD015',\n",
       " 'db285',\n",
       " 'test',\n",
       " 'test',\n",
       " 'test27apr2023',\n",
       " 'test500',\n",
       " 'test_cammy',\n",
       " 'training_test']"
      ]
     },
     "execution_count": 5,
     "metadata": {},
     "output_type": "execute_result"
    }
   ],
   "source": [
    "sorted([s['name'] for s in subject_metadata])"
   ]
  },
  {
   "cell_type": "code",
   "execution_count": 3,
   "id": "37a931d6-5e88-4023-b7e6-150266b6e2ca",
   "metadata": {},
   "outputs": [
    {
     "ename": "AssertionError",
     "evalue": "",
     "output_type": "error",
     "traceback": [
      "\u001b[0;31m---------------------------------------------------------------------------\u001b[0m",
      "\u001b[0;31mAssertionError\u001b[0m                            Traceback (most recent call last)",
      "Cell \u001b[0;32mIn[3], line 1\u001b[0m\n\u001b[0;32m----> 1\u001b[0m \u001b[38;5;28;01massert\u001b[39;00m \u001b[38;5;28;01mFalse\u001b[39;00m\n",
      "\u001b[0;31mAssertionError\u001b[0m: "
     ]
    }
   ],
   "source": [
    "assert False"
   ]
  },
  {
   "cell_type": "code",
   "execution_count": null,
   "id": "c40379e0-099a-41ba-a59a-46c4c4804aae",
   "metadata": {},
   "outputs": [],
   "source": [
    "from reprocessDataServer import reprocessData\n",
    "\n",
    "sessions = list(rename_map.keys())\n",
    "\n",
    "# Parameters:\n",
    "#   reprocessCalibration = True if you want to reprocess the calibration trial (this ignores justNeutral and justDynamic)\n",
    "#   justNeutral = True is you want to reprocess the neutral trial only (and the calibration trial if reprocessCalibration is True)\n",
    "#   justDynamic = True if you want to reprocess the dynamic trial(s) only (and the calibration trial if reprocessCalibration is True)\n",
    "#   justDynamicErrors = True if you want to reprocess the dynamic trial(s) with errors only (and the calibration trial if reprocessCalibration is True)\n",
    "#   onlySpecifiedTrials = [] if you want to reprocess all dynamic trial(s) (all dynamic trial(s) with errors), or a list of trial names to reprocess\n",
    "#   status_to_set = 'reprocess' or 'stopped'. Trials with status 'reprocess' will be processed after trials with status 'stopped'.\n",
    "#       Please set to 'reprocess' if you want to reprocess a lot of trials, otherwise this might hinder data processing of other OpenCap users.\n",
    "#   waitToFinish = True if you want the function to wait until all dynamic trials are reprocessed\n",
    "for session in sessions:\n",
    "    reprocessData(\n",
    "        session, reprocessCalibration=False, justNeutral=False, justDynamic=True,\n",
    "        justDynamicErrors=False, onlySpecifiedTrials=[], status_to_set='stopped',\n",
    "        waitToFinish=False)\n"
   ]
  }
 ],
 "metadata": {
  "kernelspec": {
   "display_name": "Python 3 (ipykernel)",
   "language": "python",
   "name": "python3"
  },
  "language_info": {
   "codemirror_mode": {
    "name": "ipython",
    "version": 3
   },
   "file_extension": ".py",
   "mimetype": "text/x-python",
   "name": "python",
   "nbconvert_exporter": "python",
   "pygments_lexer": "ipython3",
   "version": "3.9.16"
  }
 },
 "nbformat": 4,
 "nbformat_minor": 5
}
